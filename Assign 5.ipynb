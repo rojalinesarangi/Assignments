{
 "cells": [
  {
   "cell_type": "markdown",
   "id": "2b7fd2bc",
   "metadata": {},
   "source": [
    "### Question 01\n",
    "What does an empty dictionary's code look like?\n",
    "\n",
    "*Solution*:-"
   ]
  },
  {
   "cell_type": "code",
   "execution_count": 3,
   "id": "fa1160a6",
   "metadata": {},
   "outputs": [
    {
     "data": {
      "text/plain": [
       "{}"
      ]
     },
     "execution_count": 3,
     "metadata": {},
     "output_type": "execute_result"
    }
   ],
   "source": [
    "dict = {}\n",
    "dict\n"
   ]
  },
  {
   "cell_type": "markdown",
   "id": "0329cb97",
   "metadata": {},
   "source": [
    "### Question 02\n",
    "\n",
    "What is the value of a dictionary value with the key 'foo' and the value 42?\n",
    "\n",
    "*Solution*:-"
   ]
  },
  {
   "cell_type": "code",
   "execution_count": 4,
   "id": "4dbc5267",
   "metadata": {},
   "outputs": [
    {
     "name": "stdout",
     "output_type": "stream",
     "text": [
      "{'foo': 42}\n",
      "Values of dictionary : dict_values([42])\n"
     ]
    }
   ],
   "source": [
    "dict1 = {'foo' : 42}\n",
    "\n",
    "print(dict1)\n",
    "print(f\"Values of dictionary : {dict1.values()}\")"
   ]
  },
  {
   "cell_type": "markdown",
   "id": "f2624771",
   "metadata": {},
   "source": [
    "### Question 03\n",
    "What is the most significant distinction between a dictionary and a list?\n",
    "\n",
    "*Solution*:-"
   ]
  },
  {
   "cell_type": "markdown",
   "id": "f226d3ad",
   "metadata": {},
   "source": [
    "Dictionaries are unordered collection of data points. It uses key, value structure to store the values.\n",
    "\n",
    "Lists have ordered items."
   ]
  },
  {
   "cell_type": "code",
   "execution_count": 5,
   "id": "46c183f2",
   "metadata": {},
   "outputs": [
    {
     "data": {
      "text/plain": [
       "[1, 2, 3, 4]"
      ]
     },
     "execution_count": 5,
     "metadata": {},
     "output_type": "execute_result"
    }
   ],
   "source": [
    "list1 = [1,2,3,4]\n",
    "list1"
   ]
  },
  {
   "cell_type": "code",
   "execution_count": 6,
   "id": "fc9ee9c7",
   "metadata": {},
   "outputs": [
    {
     "data": {
      "text/plain": [
       "{'foo': 43, 'la': 42, 'a': 1}"
      ]
     },
     "execution_count": 6,
     "metadata": {},
     "output_type": "execute_result"
    }
   ],
   "source": [
    "dict2 = {'foo' : 43, 'la' : 42, 'a':1}\n",
    "dict2"
   ]
  },
  {
   "cell_type": "markdown",
   "id": "e450dbe3",
   "metadata": {},
   "source": [
    "### Question 04\n",
    "\n",
    "What happens if you try to access spam['foo'] if spam is {'bar': 100}?\n",
    "\n",
    "*Solution*:-"
   ]
  },
  {
   "cell_type": "code",
   "execution_count": 7,
   "id": "b703486c",
   "metadata": {},
   "outputs": [
    {
     "data": {
      "text/plain": [
       "{'bar': 100}"
      ]
     },
     "execution_count": 7,
     "metadata": {},
     "output_type": "execute_result"
    }
   ],
   "source": [
    "# initialize dict\n",
    "my_dict = {'bar' : 100}\n",
    "my_dict"
   ]
  },
  {
   "cell_type": "code",
   "execution_count": 8,
   "id": "5e6a5af1",
   "metadata": {},
   "outputs": [
    {
     "ename": "KeyError",
     "evalue": "'foo'",
     "output_type": "error",
     "traceback": [
      "\u001b[1;31m---------------------------------------------------------------------------\u001b[0m",
      "\u001b[1;31mKeyError\u001b[0m                                  Traceback (most recent call last)",
      "Cell \u001b[1;32mIn[8], line 2\u001b[0m\n\u001b[0;32m      1\u001b[0m \u001b[38;5;66;03m# accessing key 'foo'\u001b[39;00m\n\u001b[1;32m----> 2\u001b[0m my_dict[\u001b[38;5;124m'\u001b[39m\u001b[38;5;124mfoo\u001b[39m\u001b[38;5;124m'\u001b[39m]\n",
      "\u001b[1;31mKeyError\u001b[0m: 'foo'"
     ]
    }
   ],
   "source": [
    "# accessing key 'foo'\n",
    "my_dict['foo']"
   ]
  },
  {
   "cell_type": "markdown",
   "id": "c7a7a572",
   "metadata": {},
   "source": [
    "### Question 05\n",
    "\n",
    "If a dictionary is stored in spam, what is the difference between the expressions 'cat' in spam and 'cat' in spam.keys()?\n",
    "\n",
    "*Solution*:-\n",
    "\n",
    "dict.keys() returns a list of keys of the dictionary."
   ]
  },
  {
   "cell_type": "code",
   "execution_count": 10,
   "id": "10f0c3b2",
   "metadata": {},
   "outputs": [],
   "source": [
    "# initialize dictionary\n",
    "my_dict = {'dog': 1, 'cat': 2, 'parrot': 4}"
   ]
  },
  {
   "cell_type": "code",
   "execution_count": 11,
   "id": "d53ab059",
   "metadata": {},
   "outputs": [
    {
     "data": {
      "text/plain": [
       "True"
      ]
     },
     "execution_count": 11,
     "metadata": {},
     "output_type": "execute_result"
    }
   ],
   "source": [
    "'cat' in my_dict"
   ]
  },
  {
   "cell_type": "code",
   "execution_count": 12,
   "id": "a6d3ab47",
   "metadata": {},
   "outputs": [
    {
     "data": {
      "text/plain": [
       "True"
      ]
     },
     "execution_count": 12,
     "metadata": {},
     "output_type": "execute_result"
    }
   ],
   "source": [
    "'cat' in my_dict.keys()"
   ]
  },
  {
   "cell_type": "markdown",
   "id": "8420624c",
   "metadata": {},
   "source": [
    "Maybe the difference is between time to access a key."
   ]
  },
  {
   "cell_type": "markdown",
   "id": "d4d486c6",
   "metadata": {},
   "source": [
    "### Question 06\n",
    "\n",
    "If a dictionary is stored in spam, what is the difference between the expressions 'cat' in spam and 'cat' in spam.values()?\n",
    "\n",
    "*Solution*:-\n",
    "\n",
    "'cat' in spam checks if 'cat' key is present in dictionary or not.\n",
    "\n",
    "'cat' in spam.values() check 'cat' value in any of the key of spam."
   ]
  },
  {
   "cell_type": "code",
   "execution_count": 13,
   "id": "86eb2b5d",
   "metadata": {},
   "outputs": [],
   "source": [
    "# initialize dictionary\n",
    "my_dict = {'dog': 1, 'cat': 2, 'parrot': 4}"
   ]
  },
  {
   "cell_type": "code",
   "execution_count": 14,
   "id": "46797db6",
   "metadata": {},
   "outputs": [
    {
     "data": {
      "text/plain": [
       "True"
      ]
     },
     "execution_count": 14,
     "metadata": {},
     "output_type": "execute_result"
    }
   ],
   "source": [
    "'cat' in my_dict"
   ]
  },
  {
   "cell_type": "code",
   "execution_count": 15,
   "id": "3ef05758",
   "metadata": {},
   "outputs": [
    {
     "data": {
      "text/plain": [
       "dict_values([1, 2, 4])"
      ]
     },
     "execution_count": 15,
     "metadata": {},
     "output_type": "execute_result"
    }
   ],
   "source": [
    "my_dict.values()"
   ]
  },
  {
   "cell_type": "code",
   "execution_count": 16,
   "id": "765f562a",
   "metadata": {},
   "outputs": [
    {
     "data": {
      "text/plain": [
       "False"
      ]
     },
     "execution_count": 16,
     "metadata": {},
     "output_type": "execute_result"
    }
   ],
   "source": [
    "'cat' in my_dict.values()"
   ]
  },
  {
   "cell_type": "markdown",
   "id": "3f4747fd",
   "metadata": {},
   "source": [
    "### Question 07\n",
    "\n",
    "What is a shortcut for the following code?\n",
    "\n",
    "if 'color' not in spam:\n",
    "    spam['color'] = 'black'\n",
    "    \n",
    "*Solution*:-"
   ]
  },
  {
   "cell_type": "code",
   "execution_count": 17,
   "id": "be0ffa65",
   "metadata": {},
   "outputs": [
    {
     "name": "stdout",
     "output_type": "stream",
     "text": [
      "Help on built-in function setdefault:\n",
      "\n",
      "setdefault(key, default=None, /) method of builtins.dict instance\n",
      "    Insert key with a value of default if key is not in the dictionary.\n",
      "    \n",
      "    Return the value for key if key is in the dictionary, else default.\n",
      "\n"
     ]
    }
   ],
   "source": [
    "help(dict.setdefault)"
   ]
  },
  {
   "cell_type": "code",
   "execution_count": 18,
   "id": "bb9e2890",
   "metadata": {},
   "outputs": [
    {
     "data": {
      "text/plain": [
       "'black'"
      ]
     },
     "execution_count": 18,
     "metadata": {},
     "output_type": "execute_result"
    }
   ],
   "source": [
    "spam = {}\n",
    "spam.setdefault('color', 'black')"
   ]
  },
  {
   "cell_type": "code",
   "execution_count": 19,
   "id": "0d103fba",
   "metadata": {},
   "outputs": [
    {
     "data": {
      "text/plain": [
       "{'color': 'black'}"
      ]
     },
     "execution_count": 19,
     "metadata": {},
     "output_type": "execute_result"
    }
   ],
   "source": [
    "spam"
   ]
  },
  {
   "cell_type": "markdown",
   "id": "ce937798",
   "metadata": {},
   "source": [
    "### Question 08\n",
    "\n",
    "How do you \"pretty print\" dictionary values, using which module and function?\n",
    "\n",
    "*Solution*:-\n",
    "\n",
    "Using \"json\" module."
   ]
  },
  {
   "cell_type": "code",
   "execution_count": 20,
   "id": "361f55b3",
   "metadata": {},
   "outputs": [],
   "source": [
    "my_dict = {'a' : {'name': 'Anne', 'Age': 22}, 'b' : {'name': 'Luke', 'Age': 55}}"
   ]
  },
  {
   "cell_type": "code",
   "execution_count": 21,
   "id": "0ce3e5af",
   "metadata": {},
   "outputs": [
    {
     "name": "stdout",
     "output_type": "stream",
     "text": [
      "{'a': {'name': 'Anne', 'Age': 22}, 'b': {'name': 'Luke', 'Age': 55}}\n"
     ]
    }
   ],
   "source": [
    "print(my_dict)"
   ]
  },
  {
   "cell_type": "code",
   "execution_count": 23,
   "id": "417ac3dd",
   "metadata": {},
   "outputs": [
    {
     "name": "stdout",
     "output_type": "stream",
     "text": [
      "{\n",
      "    \"a\": {\n",
      "        \"name\": \"Anne\",\n",
      "        \"Age\": 22\n",
      "    },\n",
      "    \"b\": {\n",
      "        \"name\": \"Luke\",\n",
      "        \"Age\": 55\n",
      "    }\n",
      "}\n"
     ]
    }
   ],
   "source": [
    "import json\n",
    "\n",
    "print(json.dumps(my_dict, indent=4))"
   ]
  }
 ],
 "metadata": {
  "kernelspec": {
   "display_name": "Python 3 (ipykernel)",
   "language": "python",
   "name": "python3"
  },
  "language_info": {
   "codemirror_mode": {
    "name": "ipython",
    "version": 3
   },
   "file_extension": ".py",
   "mimetype": "text/x-python",
   "name": "python",
   "nbconvert_exporter": "python",
   "pygments_lexer": "ipython3",
   "version": "3.11.5"
  }
 },
 "nbformat": 4,
 "nbformat_minor": 5
}
