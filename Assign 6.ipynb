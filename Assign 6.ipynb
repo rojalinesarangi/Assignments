{
 "cells": [
  {
   "cell_type": "markdown",
   "id": "9b2eeb82",
   "metadata": {},
   "source": [
    "### Question 01\n",
    "\n",
    "What are escape characters, and how do you use them?\n",
    "\n",
    "*Solution*:-\n",
    "\n",
    "An escape character is a backslash \\ followed by the character you want to insert."
   ]
  },
  {
   "cell_type": "code",
   "execution_count": 1,
   "id": "ff112fab",
   "metadata": {},
   "outputs": [
    {
     "ename": "SyntaxError",
     "evalue": "unterminated string literal (detected at line 1) (4062381235.py, line 1)",
     "output_type": "error",
     "traceback": [
      "\u001b[1;36m  Cell \u001b[1;32mIn[1], line 1\u001b[1;36m\u001b[0m\n\u001b[1;33m    print('I'm Pretty Sure 'Exploring' Is Code')\u001b[0m\n\u001b[1;37m                                              ^\u001b[0m\n\u001b[1;31mSyntaxError\u001b[0m\u001b[1;31m:\u001b[0m unterminated string literal (detected at line 1)\n"
     ]
    }
   ],
   "source": [
    "print('I'm Pretty Sure 'Exploring' Is Code')\n"
   ]
  },
  {
   "cell_type": "code",
   "execution_count": 2,
   "id": "1e3ba51d",
   "metadata": {},
   "outputs": [
    {
     "name": "stdout",
     "output_type": "stream",
     "text": [
      "I'm Pretty Sure 'Exploring' Is Code\n"
     ]
    }
   ],
   "source": [
    "print('I\\'m Pretty Sure \\'Exploring\\' Is Code')"
   ]
  },
  {
   "cell_type": "markdown",
   "id": "32de1c91",
   "metadata": {},
   "source": [
    "### Question 02\n",
    "\n",
    "What do the escape characters n and t stand for?\n",
    "\n",
    "*Solution*:-\n",
    "    \n",
    "\\n : New line escape character                                                                                                 \n",
    "\\t : Tab space escape character"
   ]
  },
  {
   "cell_type": "code",
   "execution_count": 4,
   "id": "0deef093",
   "metadata": {},
   "outputs": [
    {
     "name": "stdout",
     "output_type": "stream",
     "text": [
      "Hello!!!\n",
      "I'm tina.\n"
     ]
    }
   ],
   "source": [
    "# Use of \\n\n",
    "print(\"Hello!!!\\nI'm tina.\")"
   ]
  },
  {
   "cell_type": "code",
   "execution_count": 5,
   "id": "c525aefb",
   "metadata": {},
   "outputs": [
    {
     "name": "stdout",
     "output_type": "stream",
     "text": [
      "Hello!!!\tI'm tina.\n"
     ]
    }
   ],
   "source": [
    "# Use of \\t\n",
    "print(\"Hello!!!\\tI'm tina.\")"
   ]
  },
  {
   "cell_type": "markdown",
   "id": "100cff6f",
   "metadata": {},
   "source": [
    "### Question 03\n",
    "\n",
    "What is the way to include backslash character in a string?\n",
    "\n",
    "*Solution*:-\n",
    "\n",
    "A blackslash character can be introduced with double blackslash characters."
   ]
  },
  {
   "cell_type": "code",
   "execution_count": 6,
   "id": "b2e5f27b",
   "metadata": {},
   "outputs": [
    {
     "ename": "SyntaxError",
     "evalue": "unterminated string literal (detected at line 2) (1254780951.py, line 2)",
     "output_type": "error",
     "traceback": [
      "\u001b[1;36m  Cell \u001b[1;32mIn[6], line 2\u001b[1;36m\u001b[0m\n\u001b[1;33m    print('\\')\u001b[0m\n\u001b[1;37m          ^\u001b[0m\n\u001b[1;31mSyntaxError\u001b[0m\u001b[1;31m:\u001b[0m unterminated string literal (detected at line 2)\n"
     ]
    }
   ],
   "source": [
    "# Using single backslash character\n",
    "print('\\')"
   ]
  },
  {
   "cell_type": "code",
   "execution_count": 7,
   "id": "97e26922",
   "metadata": {},
   "outputs": [
    {
     "name": "stdout",
     "output_type": "stream",
     "text": [
      "\\\n"
     ]
    }
   ],
   "source": [
    "print('\\\\')"
   ]
  },
  {
   "cell_type": "markdown",
   "id": "dfe23be1",
   "metadata": {},
   "source": [
    "### Question 04\n",
    "\n",
    "The string \"Howl's Moving Castle\" is a correct value. Why isn't the single quote character in the word Howl's not escaped a problem?\n",
    "\n",
    "*Solution*:-\n",
    "\n",
    "Because the complete string is enclosed under double quotes."
   ]
  },
  {
   "cell_type": "code",
   "execution_count": 10,
   "id": "b268d2ce",
   "metadata": {},
   "outputs": [
    {
     "ename": "SyntaxError",
     "evalue": "unterminated string literal (detected at line 2) (1943980522.py, line 2)",
     "output_type": "error",
     "traceback": [
      "\u001b[1;36m  Cell \u001b[1;32mIn[10], line 2\u001b[1;36m\u001b[0m\n\u001b[1;33m    print('Howl's Moving Castle')\u001b[0m\n\u001b[1;37m                               ^\u001b[0m\n\u001b[1;31mSyntaxError\u001b[0m\u001b[1;31m:\u001b[0m unterminated string literal (detected at line 2)\n"
     ]
    }
   ],
   "source": [
    "# if string was enclosed in single quotes it would have been a problem\n",
    "print('Howl's Moving Castle')"
   ]
  },
  {
   "cell_type": "markdown",
   "id": "ceb1425f",
   "metadata": {},
   "source": [
    "Question 05\n",
    "\n",
    "How do you write a string of newlines if you don't want to use the n character?\n",
    "\n",
    "*Solution*:-\n",
    "    \n",
    "By default print statements add a new line character at the end of the string. We have to use multiline approach."
   ]
  },
  {
   "cell_type": "code",
   "execution_count": 11,
   "id": "5da1392e",
   "metadata": {},
   "outputs": [
    {
     "name": "stdout",
     "output_type": "stream",
     "text": [
      "Hello\n",
      "World\n"
     ]
    }
   ],
   "source": [
    "print(\"Hello\")\n",
    "print(\"World\")"
   ]
  },
  {
   "cell_type": "markdown",
   "id": "a5165ba1",
   "metadata": {},
   "source": [
    "### Question 06\n",
    "\n",
    "What are the values of the given expressions?\n",
    "\n",
    "'Hello, world!'[1]                                                                                                             \n",
    "'Hello, world!'[0:5]                                                                                                           \n",
    "'Hello, world!'[:5]                                                                                                             \n",
    "'Hello, world!'[3:]                                                                                                             \n",
    "    \n",
    "*Solution*:-\n"
   ]
  },
  {
   "cell_type": "code",
   "execution_count": 12,
   "id": "af49351a",
   "metadata": {},
   "outputs": [],
   "source": [
    "s = \"Hello, world!\""
   ]
  },
  {
   "cell_type": "code",
   "execution_count": 13,
   "id": "497581f0",
   "metadata": {},
   "outputs": [
    {
     "data": {
      "text/plain": [
       "'e'"
      ]
     },
     "execution_count": 13,
     "metadata": {},
     "output_type": "execute_result"
    }
   ],
   "source": [
    "s[1]"
   ]
  },
  {
   "cell_type": "code",
   "execution_count": 14,
   "id": "e1dea1f3",
   "metadata": {},
   "outputs": [
    {
     "data": {
      "text/plain": [
       "'Hello'"
      ]
     },
     "execution_count": 14,
     "metadata": {},
     "output_type": "execute_result"
    }
   ],
   "source": [
    "s[0:5]"
   ]
  },
  {
   "cell_type": "code",
   "execution_count": 15,
   "id": "75bea1fd",
   "metadata": {},
   "outputs": [
    {
     "data": {
      "text/plain": [
       "'Hello'"
      ]
     },
     "execution_count": 15,
     "metadata": {},
     "output_type": "execute_result"
    }
   ],
   "source": [
    "s[:5]"
   ]
  },
  {
   "cell_type": "code",
   "execution_count": 16,
   "id": "03f54e31",
   "metadata": {},
   "outputs": [
    {
     "data": {
      "text/plain": [
       "'lo, world!'"
      ]
     },
     "execution_count": 16,
     "metadata": {},
     "output_type": "execute_result"
    }
   ],
   "source": [
    "s[3:]"
   ]
  },
  {
   "cell_type": "markdown",
   "id": "108221be",
   "metadata": {},
   "source": [
    "### Question 07\n",
    "\n",
    "What are the values of the following expressions?\n",
    "\n",
    "'Hello'.upper()                                                                                                                 \n",
    "'Hello'.upper().isupper()                                                                                                       \n",
    "'Hello'.upper().lower()                                                                                                         \n",
    "    \n",
    "*Solution*:-"
   ]
  },
  {
   "cell_type": "code",
   "execution_count": 17,
   "id": "c4d5e2c5",
   "metadata": {},
   "outputs": [],
   "source": [
    "s = \"Hello\""
   ]
  },
  {
   "cell_type": "code",
   "execution_count": 18,
   "id": "f7cb44cf",
   "metadata": {},
   "outputs": [
    {
     "data": {
      "text/plain": [
       "'HELLO'"
      ]
     },
     "execution_count": 18,
     "metadata": {},
     "output_type": "execute_result"
    }
   ],
   "source": [
    "s.upper()"
   ]
  },
  {
   "cell_type": "code",
   "execution_count": 19,
   "id": "d75b23f8",
   "metadata": {},
   "outputs": [
    {
     "data": {
      "text/plain": [
       "True"
      ]
     },
     "execution_count": 19,
     "metadata": {},
     "output_type": "execute_result"
    }
   ],
   "source": [
    "s.upper().isupper()"
   ]
  },
  {
   "cell_type": "code",
   "execution_count": 20,
   "id": "c9c70881",
   "metadata": {},
   "outputs": [
    {
     "data": {
      "text/plain": [
       "'hello'"
      ]
     },
     "execution_count": 20,
     "metadata": {},
     "output_type": "execute_result"
    }
   ],
   "source": [
    "s.upper().lower()"
   ]
  },
  {
   "cell_type": "markdown",
   "id": "d0131586",
   "metadata": {},
   "source": [
    "### Question 08\n",
    "\n",
    "What are the values of the following expressions?\n",
    "\n",
    "*Solution*:-"
   ]
  },
  {
   "cell_type": "markdown",
   "id": "94232daa",
   "metadata": {},
   "source": [
    "_*'Remember, remember, the fifth of July.'.split()                                                                             \n",
    "    '-'.join('There can only one.'.split())*_"
   ]
  },
  {
   "cell_type": "code",
   "execution_count": 22,
   "id": "e192558a",
   "metadata": {},
   "outputs": [
    {
     "data": {
      "text/plain": [
       "['Remember,', 'remember,', 'the', 'fifth', 'of', 'July.']"
      ]
     },
     "execution_count": 22,
     "metadata": {},
     "output_type": "execute_result"
    }
   ],
   "source": [
    "'Remember, remember, the fifth of July.'.split()"
   ]
  },
  {
   "cell_type": "code",
   "execution_count": 23,
   "id": "e733f18f",
   "metadata": {},
   "outputs": [
    {
     "data": {
      "text/plain": [
       "'There-can-only-one.'"
      ]
     },
     "execution_count": 23,
     "metadata": {},
     "output_type": "execute_result"
    }
   ],
   "source": [
    "'-'.join('There can only one.'.split())"
   ]
  },
  {
   "cell_type": "markdown",
   "id": "b61c6a7b",
   "metadata": {},
   "source": [
    "### Question 09\n",
    "\n",
    "What are the methods for right-justifying, left-justifying, and centering a string?\n",
    "\n",
    "*Solution*:-"
   ]
  },
  {
   "cell_type": "code",
   "execution_count": 24,
   "id": "f945ebaf",
   "metadata": {},
   "outputs": [
    {
     "name": "stdout",
     "output_type": "stream",
     "text": [
      "Help on method_descriptor:\n",
      "\n",
      "rjust(self, width, fillchar=' ', /)\n",
      "    Return a right-justified string of length width.\n",
      "    \n",
      "    Padding is done using the specified fill character (default is a space).\n",
      "\n"
     ]
    }
   ],
   "source": [
    "help(str.rjust)"
   ]
  },
  {
   "cell_type": "code",
   "execution_count": 25,
   "id": "61f330db",
   "metadata": {},
   "outputs": [
    {
     "name": "stdout",
     "output_type": "stream",
     "text": [
      "$$$$$hello\n"
     ]
    }
   ],
   "source": [
    "s = \"hello\"\n",
    "length = 10\n",
    "fillchars = \"$\"\n",
    "\n",
    "print(s.rjust(length, fillchars))"
   ]
  },
  {
   "cell_type": "code",
   "execution_count": 26,
   "id": "ffa84779",
   "metadata": {},
   "outputs": [
    {
     "name": "stdout",
     "output_type": "stream",
     "text": [
      "Help on method_descriptor:\n",
      "\n",
      "ljust(self, width, fillchar=' ', /)\n",
      "    Return a left-justified string of length width.\n",
      "    \n",
      "    Padding is done using the specified fill character (default is a space).\n",
      "\n"
     ]
    }
   ],
   "source": [
    "help(str.ljust)"
   ]
  },
  {
   "cell_type": "code",
   "execution_count": 27,
   "id": "c2b748bf",
   "metadata": {},
   "outputs": [
    {
     "name": "stdout",
     "output_type": "stream",
     "text": [
      "hello$$$$$\n"
     ]
    }
   ],
   "source": [
    "s = \"hello\"\n",
    "length = 10\n",
    "fillchars = \"$\"\n",
    "\n",
    "print(s.ljust(length, fillchars))\n"
   ]
  },
  {
   "cell_type": "code",
   "execution_count": 28,
   "id": "17d69e6a",
   "metadata": {},
   "outputs": [
    {
     "name": "stdout",
     "output_type": "stream",
     "text": [
      "Help on method_descriptor:\n",
      "\n",
      "center(self, width, fillchar=' ', /)\n",
      "    Return a centered string of length width.\n",
      "    \n",
      "    Padding is done using the specified fill character (default is a space).\n",
      "\n"
     ]
    }
   ],
   "source": [
    "help(str.center)"
   ]
  },
  {
   "cell_type": "code",
   "execution_count": 29,
   "id": "6d990cbb",
   "metadata": {},
   "outputs": [
    {
     "name": "stdout",
     "output_type": "stream",
     "text": [
      "$$hello$$$\n"
     ]
    }
   ],
   "source": [
    "s = \"hello\"\n",
    "length = 10\n",
    "fillchars = \"$\"\n",
    "\n",
    "print(s.center(length, fillchars))"
   ]
  },
  {
   "cell_type": "markdown",
   "id": "c174d43c",
   "metadata": {},
   "source": [
    "### Question 10\n",
    "\n",
    "What is the best way to remove whitespace characters from the start or end?\n",
    "\n",
    "*Solution*:-\n",
    "    \n",
    "using .strip() function"
   ]
  },
  {
   "cell_type": "code",
   "execution_count": 31,
   "id": "5f2a8abf",
   "metadata": {},
   "outputs": [
    {
     "name": "stdout",
     "output_type": "stream",
     "text": [
      "Help on method_descriptor:\n",
      "\n",
      "strip(self, chars=None, /)\n",
      "    Return a copy of the string with leading and trailing whitespace removed.\n",
      "    \n",
      "    If chars is given and not None, remove characters in chars instead.\n",
      "\n"
     ]
    }
   ],
   "source": [
    "help(str.strip)"
   ]
  },
  {
   "cell_type": "code",
   "execution_count": 33,
   "id": "328245f3",
   "metadata": {},
   "outputs": [],
   "source": [
    "s = \"  Hello, I'm Tina. \" "
   ]
  },
  {
   "cell_type": "code",
   "execution_count": 34,
   "id": "f28fac06",
   "metadata": {},
   "outputs": [
    {
     "name": "stdout",
     "output_type": "stream",
     "text": [
      "19\n",
      "  Hello, I'm Tina. \n"
     ]
    }
   ],
   "source": [
    "print(len(s))\n",
    "print(s)"
   ]
  },
  {
   "cell_type": "code",
   "execution_count": 35,
   "id": "15ee81f0",
   "metadata": {},
   "outputs": [],
   "source": [
    "# remove whitespaces\n",
    "s = s.strip()"
   ]
  },
  {
   "cell_type": "code",
   "execution_count": 36,
   "id": "1e4ff349",
   "metadata": {},
   "outputs": [
    {
     "name": "stdout",
     "output_type": "stream",
     "text": [
      "16\n",
      "Hello, I'm Tina.\n"
     ]
    }
   ],
   "source": [
    "print(len(s))\n",
    "print(s)\n"
   ]
  },
  {
   "cell_type": "code",
   "execution_count": null,
   "id": "fd2070cc",
   "metadata": {},
   "outputs": [],
   "source": []
  }
 ],
 "metadata": {
  "kernelspec": {
   "display_name": "Python 3 (ipykernel)",
   "language": "python",
   "name": "python3"
  },
  "language_info": {
   "codemirror_mode": {
    "name": "ipython",
    "version": 3
   },
   "file_extension": ".py",
   "mimetype": "text/x-python",
   "name": "python",
   "nbconvert_exporter": "python",
   "pygments_lexer": "ipython3",
   "version": "3.11.5"
  }
 },
 "nbformat": 4,
 "nbformat_minor": 5
}
