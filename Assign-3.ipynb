{
 "cells": [
  {
   "cell_type": "markdown",
   "id": "06092a28",
   "metadata": {},
   "source": [
    "### Question 1\n",
    "\n",
    "Why are functions advantageous to have in your programs?\n",
    "\n",
    "Solution:-\n",
    "\n",
    "Functions are reusable pieces of programs.\n",
    "\n",
    "Functions allow us to give a name to a block of statements, allowing us to run that block using the specified function name anywhere in our application and any number of times.\n",
    "\n",
    "Primary benefits are:\n",
    "\n",
    "Reusability : A function can be used again and again.\n",
    "Simplicity : Functions are easy to use and make code readable. We only need to know the purpose of a function and when to use it without focusing on inner working."
   ]
  },
  {
   "cell_type": "code",
   "execution_count": 1,
   "id": "40ace765",
   "metadata": {},
   "outputs": [
    {
     "name": "stdout",
     "output_type": "stream",
     "text": [
      "Cube of 2 is : 8\n",
      "Cube of 4 is : 64\n"
     ]
    }
   ],
   "source": [
    "# define a function\n",
    "\n",
    "def cubeofNumber(x):\n",
    "    return x**3\n",
    "\n",
    "print(f\"Cube of 2 is : {cubeofNumber(2)}\")\n",
    "print(f\"Cube of 4 is : {cubeofNumber(4)}\") # calling same function again"
   ]
  },
  {
   "cell_type": "markdown",
   "id": "7b31495f",
   "metadata": {},
   "source": [
    "### Question 2\n",
    "\n",
    "When does the code in a function run: when it's specified or when it's called?\n",
    "\n",
    "Solution:-"
   ]
  },
  {
   "cell_type": "code",
   "execution_count": 2,
   "id": "a81459cd",
   "metadata": {},
   "outputs": [],
   "source": [
    "# specify a function\n",
    "\n",
    "'''\n",
    "we use `def <function-name>():`\n",
    "to specify a function.\n",
    "'''\n",
    "\n",
    "def sqrofNumber(x):\n",
    "    \"\"\"\n",
    "    returns square of number\n",
    "    \"\"\"\n",
    "    return x**2"
   ]
  },
  {
   "cell_type": "markdown",
   "id": "a7523bed",
   "metadata": {},
   "source": [
    "In above cell we have defined our function. The code inside the function will not get executed unless we call the function with specified parameters.\n",
    "\n",
    "Calling a function,"
   ]
  },
  {
   "cell_type": "code",
   "execution_count": 3,
   "id": "6a840203",
   "metadata": {},
   "outputs": [
    {
     "data": {
      "text/plain": [
       "1936"
      ]
     },
     "execution_count": 3,
     "metadata": {},
     "output_type": "execute_result"
    }
   ],
   "source": [
    "sqrofNumber(44)"
   ]
  },
  {
   "cell_type": "markdown",
   "id": "b6b130c5",
   "metadata": {},
   "source": [
    "### Question 3\n",
    "\n",
    "What statement creates a function?\n",
    "\n",
    "Solution:-\n",
    "\n",
    "A Function can be defined using the def keyword in the following format:\n",
    "\n",
    "def function_name(parameters):\n",
    "    \"\"\"\n",
    "    define a set of operations\n",
    "    \"\"\"\n",
    "The function name is what we use to identify the function.\n",
    "The parameters of a function are the inputs for that function. These inputs can be used within the functions for computations. Parameters are optional.\n",
    "The body contains the set of operations."
   ]
  },
  {
   "cell_type": "code",
   "execution_count": 4,
   "id": "1d54a2fe",
   "metadata": {},
   "outputs": [
    {
     "name": "stdout",
     "output_type": "stream",
     "text": [
      "hello\n"
     ]
    }
   ],
   "source": [
    "# function without use of parameters\n",
    "def greet():            # define a function using def keyword\n",
    "    print(\"hello\")      # print hello\n",
    "\n",
    "greet()                 # calling a function"
   ]
  },
  {
   "cell_type": "code",
   "execution_count": 6,
   "id": "9ebf8c5b",
   "metadata": {},
   "outputs": [
    {
     "data": {
      "text/plain": [
       "-8"
      ]
     },
     "execution_count": 6,
     "metadata": {},
     "output_type": "execute_result"
    }
   ],
   "source": [
    "# function with use of parameters\n",
    "def addTwoValues(a, b):\n",
    "    return a+b\n",
    "\n",
    "addTwoValues(2, -10)"
   ]
  },
  {
   "cell_type": "markdown",
   "id": "46dca525",
   "metadata": {},
   "source": [
    "### Question 4\n",
    "\n",
    "What is the difference between a function and a function call?\n",
    "\n",
    "Solution:-\n",
    "\n",
    "A function is a set of instructions. We can define a function but the instructions won't be executed until we call the function and tell compiler to execute the instruction of the defined function."
   ]
  },
  {
   "cell_type": "markdown",
   "id": "80000491",
   "metadata": {},
   "source": [
    "### Question 5\n",
    "\n",
    "How many global scopes are there in a Python program? Home many local scopes?\n",
    "\n",
    "Solution:-\n",
    "\n",
    "A variable scope determines where our variables can be accessed within the program and what values are stored inside of those variables.\n",
    "\n",
    "There are 4 types of scope,\n",
    "\n",
    "Local\n",
    "Enclosing\n",
    "Global\n",
    "Built-in\n",
    "\n",
    "Local : variables that are defined inside of a function.\n",
    "\n",
    "Enclosing : variables in local scope of enclosed function.\n",
    "\n",
    "Global : variables are defined at top level of a program or defined using GLOBAL keyword.\n",
    "\n",
    "Built-in : keywords, functions that are built in Python.\n",
    "\n",
    "LEGB is the order in which a variable is assigned, the iterpretor checks variable first in local scope, then enclosing scope, then global scope and then in built-in scope."
   ]
  },
  {
   "cell_type": "code",
   "execution_count": 7,
   "id": "2466886b",
   "metadata": {},
   "outputs": [
    {
     "name": "stdout",
     "output_type": "stream",
     "text": [
      "_global_x_\n",
      "_local_y_\n"
     ]
    }
   ],
   "source": [
    "# global scope\n",
    "x = \"_global_x_\"\n",
    "\n",
    "def test():\n",
    "    y = \"_local_y_\" # local to test function\n",
    "    print(x)\n",
    "    print(y)\n",
    "\n",
    "test()\n",
    "# print(y)    # Throws an error"
   ]
  },
  {
   "cell_type": "markdown",
   "id": "2ee86cc3",
   "metadata": {},
   "source": [
    "### Question 6\n",
    "\n",
    "What happens to variables in a local scope when the function call returns?\n",
    "\n",
    "Solution:-\n",
    "\n",
    "When the execution of the function returns, the local variables in the function scope are destroyed.\n",
    "\n",
    "Even the parameters of the function are local to the scope of the function."
   ]
  },
  {
   "cell_type": "markdown",
   "id": "a3ca6318",
   "metadata": {},
   "source": [
    "### Question 7\n",
    "\n",
    "What is the concept of a return value? Is it possible to have a return value in an expression?\n",
    "\n",
    "Solution:-\n",
    "\n",
    "The return statement is used to return values from the function. Any remaining lines of code block after the return statement are not executed."
   ]
  },
  {
   "cell_type": "code",
   "execution_count": 9,
   "id": "ab6b06f7",
   "metadata": {},
   "outputs": [
    {
     "data": {
      "text/plain": [
       "13"
      ]
     },
     "execution_count": 9,
     "metadata": {},
     "output_type": "execute_result"
    }
   ],
   "source": [
    "def add_values(a, b):\n",
    "    sum = a + b\n",
    "    return sum  # explicit return statement\n",
    "\n",
    "add_values(2, 11) "
   ]
  },
  {
   "cell_type": "markdown",
   "id": "632c8d26",
   "metadata": {},
   "source": [
    "We can also return an expression as return value"
   ]
  },
  {
   "cell_type": "code",
   "execution_count": 10,
   "id": "fef9cdd9",
   "metadata": {},
   "outputs": [
    {
     "data": {
      "text/plain": [
       "13"
      ]
     },
     "execution_count": 10,
     "metadata": {},
     "output_type": "execute_result"
    }
   ],
   "source": [
    "def add_values(a, b):\n",
    "    return a + b  # an expression is evaluated first and then value is returned\n",
    "\n",
    "add_values(2, 11)"
   ]
  },
  {
   "cell_type": "markdown",
   "id": "e1096c26",
   "metadata": {},
   "source": [
    "### Question 8\n",
    "\n",
    "If a function does not have a return statement, what is the return value of a call to that function?\n",
    "\n",
    "Solution:-\n",
    "\n",
    "We will check it using code"
   ]
  },
  {
   "cell_type": "code",
   "execution_count": 11,
   "id": "729200ed",
   "metadata": {},
   "outputs": [
    {
     "name": "stdout",
     "output_type": "stream",
     "text": [
      "None\n",
      "<class 'NoneType'>\n"
     ]
    }
   ],
   "source": [
    "def add_values(a, b):\n",
    "    sum = a + b\n",
    "\n",
    "print(add_values(2, 11))\n",
    "print(type(add_values(2, 11)))"
   ]
  },
  {
   "cell_type": "markdown",
   "id": "05414c3d",
   "metadata": {},
   "source": [
    "As we can see if there is no explicit return statement, the function return None."
   ]
  },
  {
   "cell_type": "markdown",
   "id": "f92be7c6",
   "metadata": {},
   "source": [
    "### Question 9\n",
    "\n",
    "How do you make a function variable refer to the global variable?\n",
    "\n",
    "Solution:-\n",
    "\n",
    "We use global keyword before a variable to tell interpreter inside a function that we are using a global variable.\n",
    "\n",
    "We use this keyword if we have to modify the global variable inside a function."
   ]
  },
  {
   "cell_type": "code",
   "execution_count": 12,
   "id": "c6dbc9b4",
   "metadata": {},
   "outputs": [
    {
     "name": "stdout",
     "output_type": "stream",
     "text": [
      "Total marks : 100\n",
      "Total marks : 35\n"
     ]
    }
   ],
   "source": [
    "# global variable\n",
    "total_marks = 100\n",
    "\n",
    "def test():\n",
    "    global total_marks\n",
    "    if total_marks>34:\n",
    "        total_marks = 35\n",
    "\n",
    "print(f'Total marks : {total_marks}')\n",
    "\n",
    "# call function\n",
    "test()\n",
    "\n",
    "print(f'Total marks : {total_marks}')"
   ]
  },
  {
   "cell_type": "markdown",
   "id": "f4b0705c",
   "metadata": {},
   "source": [
    "### Question 10\n",
    "\n",
    "What is the data type of None?\n",
    "\n",
    "Solution:-"
   ]
  },
  {
   "cell_type": "code",
   "execution_count": 13,
   "id": "e176930e",
   "metadata": {},
   "outputs": [
    {
     "name": "stdout",
     "output_type": "stream",
     "text": [
      "Help on NoneType object:\n",
      "\n",
      "class NoneType(object)\n",
      " |  Methods defined here:\n",
      " |  \n",
      " |  __bool__(self, /)\n",
      " |      True if self else False\n",
      " |  \n",
      " |  __repr__(self, /)\n",
      " |      Return repr(self).\n",
      " |  \n",
      " |  ----------------------------------------------------------------------\n",
      " |  Static methods defined here:\n",
      " |  \n",
      " |  __new__(*args, **kwargs) from builtins.type\n",
      " |      Create and return a new object.  See help(type) for accurate signature.\n",
      "\n"
     ]
    }
   ],
   "source": [
    "help(None)"
   ]
  },
  {
   "cell_type": "code",
   "execution_count": 14,
   "id": "a579a5e8",
   "metadata": {},
   "outputs": [
    {
     "data": {
      "text/plain": [
       "NoneType"
      ]
     },
     "execution_count": 14,
     "metadata": {},
     "output_type": "execute_result"
    }
   ],
   "source": [
    "type(None)"
   ]
  },
  {
   "cell_type": "code",
   "execution_count": null,
   "id": "7f0fbf4c",
   "metadata": {},
   "outputs": [],
   "source": [
    "NoneType\n",
    "\n",
    "None keyword is an object of data type NoneType.\n",
    "\n",
    "Think it as of, we have a NoneType class and it has only one object that is None and None can be assigned to any object."
   ]
  },
  {
   "cell_type": "markdown",
   "id": "9bc6118b",
   "metadata": {},
   "source": [
    "### Question 11\n",
    "\n",
    "What does the sentence import areallyourpetsnamederic do?\n",
    "\n",
    "Solution:-\n",
    "\n",
    "This statement imports a module areallyourpetsnamederic, but as we see below there is no module named areallyourpetsnamederic in Python."
   ]
  },
  {
   "cell_type": "code",
   "execution_count": 15,
   "id": "558ffd97",
   "metadata": {},
   "outputs": [
    {
     "ename": "ModuleNotFoundError",
     "evalue": "No module named 'areallyourpetsnamederic'",
     "output_type": "error",
     "traceback": [
      "\u001b[1;31m---------------------------------------------------------------------------\u001b[0m",
      "\u001b[1;31mModuleNotFoundError\u001b[0m                       Traceback (most recent call last)",
      "Cell \u001b[1;32mIn[15], line 1\u001b[0m\n\u001b[1;32m----> 1\u001b[0m \u001b[38;5;28;01mimport\u001b[39;00m \u001b[38;5;21;01mareallyourpetsnamederic\u001b[39;00m\n",
      "\u001b[1;31mModuleNotFoundError\u001b[0m: No module named 'areallyourpetsnamederic'"
     ]
    }
   ],
   "source": [
    "import areallyourpetsnamederic"
   ]
  },
  {
   "cell_type": "raw",
   "id": "324e0f8f",
   "metadata": {},
   "source": [
    "NOTE: If your import is failing due to a missing package, you can\n",
    "manually install dependencies using either !pip or !apt.\n",
    "\n",
    "To view examples of installing some common dependencies, click the\n",
    "\"Open Examples\" button below."
   ]
  },
  {
   "cell_type": "markdown",
   "id": "42846581",
   "metadata": {},
   "source": [
    "### Question 12\n",
    "\n",
    "If you had a bacon() feature in a spam module, what would you call it after importing spam?\n",
    "\n",
    "Solution:-\n",
    "\n",
    "Any function in spam module can be called using format,\n",
    "\n",
    "spam.<function-name>()\n",
    "\n",
    "Therefore, bacon feature can be called using,\n",
    "\n",
    "spam.bacon()"
   ]
  },
  {
   "cell_type": "markdown",
   "id": "8c1dadb4",
   "metadata": {},
   "source": [
    "### Question 13\n",
    "\n",
    "What can you do to save a programme from crashing if it encounters an error?\n",
    "\n",
    "Solution:-\n",
    "\n",
    "We can use try statement to test a code block and if it encounters an error an except block handles the error which avoids crashing a program."
   ]
  },
  {
   "cell_type": "code",
   "execution_count": 16,
   "id": "3ac6e58c",
   "metadata": {},
   "outputs": [
    {
     "ename": "ZeroDivisionError",
     "evalue": "division by zero",
     "output_type": "error",
     "traceback": [
      "\u001b[1;31m---------------------------------------------------------------------------\u001b[0m",
      "\u001b[1;31mZeroDivisionError\u001b[0m                         Traceback (most recent call last)",
      "Cell \u001b[1;32mIn[16], line 6\u001b[0m\n\u001b[0;32m      3\u001b[0m \u001b[38;5;28;01mdef\u001b[39;00m \u001b[38;5;21mdivision\u001b[39m(a, b):\n\u001b[0;32m      4\u001b[0m     \u001b[38;5;28mprint\u001b[39m(a\u001b[38;5;241m/\u001b[39mb)\n\u001b[1;32m----> 6\u001b[0m division(\u001b[38;5;241m10\u001b[39m, \u001b[38;5;241m0\u001b[39m)\n",
      "Cell \u001b[1;32mIn[16], line 4\u001b[0m, in \u001b[0;36mdivision\u001b[1;34m(a, b)\u001b[0m\n\u001b[0;32m      3\u001b[0m \u001b[38;5;28;01mdef\u001b[39;00m \u001b[38;5;21mdivision\u001b[39m(a, b):\n\u001b[1;32m----> 4\u001b[0m     \u001b[38;5;28mprint\u001b[39m(a\u001b[38;5;241m/\u001b[39mb)\n",
      "\u001b[1;31mZeroDivisionError\u001b[0m: division by zero"
     ]
    }
   ],
   "source": [
    "# without using try/except\n",
    "\n",
    "def division(a, b):\n",
    "    print(a/b)\n",
    "    \n",
    "division(10, 0)"
   ]
  },
  {
   "cell_type": "markdown",
   "id": "9d624333",
   "metadata": {},
   "source": [
    "The above program is crashed!!!"
   ]
  },
  {
   "cell_type": "code",
   "execution_count": 17,
   "id": "57559932",
   "metadata": {},
   "outputs": [
    {
     "name": "stdout",
     "output_type": "stream",
     "text": [
      "<class 'Exception'> division by zero\n"
     ]
    }
   ],
   "source": [
    "# Using try/except\n",
    "\n",
    "def division(a, b):\n",
    "    try:\n",
    "        print(a/b)\n",
    "    except Exception as e:\n",
    "        print(Exception, e)\n",
    "\n",
    "division(10, 0)"
   ]
  },
  {
   "cell_type": "markdown",
   "id": "6c5e2f0c",
   "metadata": {},
   "source": [
    "### Question 14\n",
    "\n",
    "What is the purpose of the try clause? What is the purpose of the except clause?\n",
    "\n",
    "Solution:-\n",
    "\n",
    "As from the above example, the code block that can cause an error is handled with try/except clause without crashing of program.\n",
    "\n",
    "If try block does not execute successfully the program will run except block."
   ]
  }
 ],
 "metadata": {
  "kernelspec": {
   "display_name": "Python 3 (ipykernel)",
   "language": "python",
   "name": "python3"
  },
  "language_info": {
   "codemirror_mode": {
    "name": "ipython",
    "version": 3
   },
   "file_extension": ".py",
   "mimetype": "text/x-python",
   "name": "python",
   "nbconvert_exporter": "python",
   "pygments_lexer": "ipython3",
   "version": "3.11.5"
  }
 },
 "nbformat": 4,
 "nbformat_minor": 5
}
