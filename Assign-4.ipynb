{
 "cells": [
  {
   "cell_type": "markdown",
   "id": "2d9b9f32",
   "metadata": {},
   "source": [
    "### Question 1\n",
    "\n",
    "What exactly is []?\n",
    "\n",
    "*Solution*:-\n",
    "\n",
    "[] represents an empty list in Python."
   ]
  },
  {
   "cell_type": "code",
   "execution_count": 1,
   "id": "b1c0e491",
   "metadata": {},
   "outputs": [
    {
     "name": "stdout",
     "output_type": "stream",
     "text": [
      "<class 'list'>\n"
     ]
    }
   ],
   "source": [
    "my_list = []\n",
    "print(type(my_list))"
   ]
  },
  {
   "cell_type": "markdown",
   "id": "64d7e4ac",
   "metadata": {},
   "source": [
    "### Question 2\n",
    "\n",
    "In a list of values stored in a variable called spam, how would you assign the value 'hello' as the third value? \n",
    "(Assume [2, 4, 6, 8, 10] are in spam.)\n",
    "\n",
    "*Solution*:-"
   ]
  },
  {
   "cell_type": "code",
   "execution_count": 6,
   "id": "58d6f350",
   "metadata": {},
   "outputs": [
    {
     "data": {
      "text/plain": [
       "[2, 4, 'hello', 8, 10]"
      ]
     },
     "execution_count": 6,
     "metadata": {},
     "output_type": "execute_result"
    }
   ],
   "source": [
    "# define spam\n",
    "spam = [2, 4, 6, 8, 10]\n",
    "\n",
    "spam[2]='hello'\n",
    "spam"
   ]
  },
  {
   "cell_type": "markdown",
   "id": "833bb292",
   "metadata": {},
   "source": [
    "### Question 3\n",
    "\n",
    "Assuming,\n",
    "\n",
    "spam = ['a', 'b', 'c', 'd']\n",
    "\n",
    "What is the value of spam[int(int('3' * 2) / 11)]\n",
    "\n",
    "*Solution*:-\n",
    "\n",
    "Steps,\n",
    "\n",
    "1.spam[int(int('3'*2)/11)]\n",
    "\n",
    "2.spam[int(int('33')/11)]\n",
    "\n",
    "3.spam[int(33/11)]\n",
    "\n",
    "4.spam[int(3.0)]\n",
    "\n",
    "5.spam[3] = 'd'"
   ]
  },
  {
   "cell_type": "code",
   "execution_count": 7,
   "id": "1e661a95",
   "metadata": {},
   "outputs": [
    {
     "data": {
      "text/plain": [
       "'d'"
      ]
     },
     "execution_count": 7,
     "metadata": {},
     "output_type": "execute_result"
    }
   ],
   "source": [
    "spam = ['a', 'b', 'c', 'd']\n",
    "spam[int(int('3'*2)/11)]\n"
   ]
  },
  {
   "cell_type": "markdown",
   "id": "d254990c",
   "metadata": {},
   "source": [
    "### Question 5\n",
    "Assuming,\n",
    "\n",
    "spam = ['a', 'b', 'c', 'd']. \n",
    "What is the value of spam[:2]?\n",
    "\n",
    "*Solution*:-\n",
    "\n",
    "This is called string slicing."
   ]
  },
  {
   "cell_type": "code",
   "execution_count": 8,
   "id": "9bb4beea",
   "metadata": {},
   "outputs": [
    {
     "data": {
      "text/plain": [
       "['a', 'b']"
      ]
     },
     "execution_count": 8,
     "metadata": {},
     "output_type": "execute_result"
    }
   ],
   "source": [
    "spam = ['a', 'b', 'c', 'd']\n",
    "spam[:2]"
   ]
  },
  {
   "cell_type": "markdown",
   "id": "d6a99380",
   "metadata": {},
   "source": [
    "### Question 6\n",
    "\n",
    "Assuming,\n",
    "\n",
    "bacon = [3.14, 'cat', 11, 'cat', True]\n",
    "What is the value of bacon.index('cat')?\n",
    "\n",
    "*Solution*:-\n",
    "\n",
    "Returns first occurance index."
   ]
  },
  {
   "cell_type": "code",
   "execution_count": 9,
   "id": "a95e22d6",
   "metadata": {},
   "outputs": [
    {
     "data": {
      "text/plain": [
       "1"
      ]
     },
     "execution_count": 9,
     "metadata": {},
     "output_type": "execute_result"
    }
   ],
   "source": [
    "bacon = [3.14, 'cat', 11, 'cat', True]\n",
    "bacon.index('cat')"
   ]
  },
  {
   "cell_type": "markdown",
   "id": "669958f0",
   "metadata": {},
   "source": [
    "### Question 7\n",
    "\n",
    "Assuming,\n",
    "\n",
    "bacon = [3.14, 'cat', 11, 'cat', True]                                                                                         \n",
    "How does bacon.append(99) change the look of the list value in bacon?\n",
    "\n",
    "*Solution*:-"
   ]
  },
  {
   "cell_type": "code",
   "execution_count": 11,
   "id": "88a43bfe",
   "metadata": {},
   "outputs": [
    {
     "data": {
      "text/plain": [
       "[3.14, 'cat', 11, 'cat', True, 99]"
      ]
     },
     "execution_count": 11,
     "metadata": {},
     "output_type": "execute_result"
    }
   ],
   "source": [
    "bacon = [3.14, 'cat', 11, 'cat', True]\n",
    "bacon.append(99)\n",
    "bacon"
   ]
  },
  {
   "cell_type": "markdown",
   "id": "2facf409",
   "metadata": {},
   "source": [
    "### Question 8\n",
    "\n",
    "Assuming,\n",
    "\n",
    "bacon = [3.14, 'cat', 11, 'cat', True]                                                                                         \n",
    "How does bacon.remove('cat') change the look of the list in bacon?\n",
    "\n",
    "*Solution*:-"
   ]
  },
  {
   "cell_type": "code",
   "execution_count": 13,
   "id": "6d24af84",
   "metadata": {},
   "outputs": [
    {
     "name": "stdout",
     "output_type": "stream",
     "text": [
      "original list:[3.14, 'cat', 11, 'cat', True]\n",
      "new list:[3.14, 'cat', 11, 'cat', True]\n"
     ]
    }
   ],
   "source": [
    "bacon = [3.14, 'cat', 11, 'cat', True]\n",
    "print(f'original list:{bacon}')\n",
    "print(f'new list:{bacon}')\n",
    "bacon.remove('cat')"
   ]
  },
  {
   "cell_type": "markdown",
   "id": "073cfd54",
   "metadata": {},
   "source": [
    "### Question 9\n",
    "\n",
    "What are the list concatenation and list replication operators?\n",
    "\n",
    "*Solution*:-\n",
    "\n",
    "Operator used for list concatenation is +, whereas operator used for list replication is *."
   ]
  },
  {
   "cell_type": "code",
   "execution_count": 14,
   "id": "c7f11119",
   "metadata": {},
   "outputs": [
    {
     "data": {
      "text/plain": [
       "['hello', 'my', 'name', 'is', 'tina']"
      ]
     },
     "execution_count": 14,
     "metadata": {},
     "output_type": "execute_result"
    }
   ],
   "source": [
    "# list concatenation\n",
    "\n",
    "list1 = ['hello', 'my', 'name']\n",
    "list2 = ['is', 'tina']\n",
    "\n",
    "list1 + list2"
   ]
  },
  {
   "cell_type": "code",
   "execution_count": 15,
   "id": "2e3e39b9",
   "metadata": {},
   "outputs": [
    {
     "data": {
      "text/plain": [
       "['3', 'tom', True, '3', 'tom', True]"
      ]
     },
     "execution_count": 15,
     "metadata": {},
     "output_type": "execute_result"
    }
   ],
   "source": [
    "# list replication\n",
    "\n",
    "list = ['3', 'tom', True]\n",
    "\n",
    "list*2"
   ]
  },
  {
   "cell_type": "markdown",
   "id": "427a05cd",
   "metadata": {},
   "source": [
    "### Question 10\n",
    "\n",
    "What is difference between the list methods append() and insert()?\n",
    "\n",
    "*Solution*:-"
   ]
  },
  {
   "cell_type": "code",
   "execution_count": 16,
   "id": "04dd014c",
   "metadata": {},
   "outputs": [
    {
     "name": "stdout",
     "output_type": "stream",
     "text": [
      "Help on built-in function append:\n",
      "\n",
      "append(object, /) method of builtins.list instance\n",
      "    Append object to the end of the list.\n",
      "\n"
     ]
    }
   ],
   "source": [
    "help(list.append)"
   ]
  },
  {
   "cell_type": "code",
   "execution_count": 18,
   "id": "86cf00fb",
   "metadata": {},
   "outputs": [
    {
     "name": "stdout",
     "output_type": "stream",
     "text": [
      "Help on built-in function insert:\n",
      "\n",
      "insert(index, object, /) method of builtins.list instance\n",
      "    Insert object before index.\n",
      "\n"
     ]
    }
   ],
   "source": [
    "help(list.insert)"
   ]
  },
  {
   "cell_type": "markdown",
   "id": "05ff32a7",
   "metadata": {},
   "source": [
    "Append inserts an element to the end of the list, whereas insert method make use of index parameter to insert an element in the list."
   ]
  },
  {
   "cell_type": "code",
   "execution_count": 20,
   "id": "28ca4ccb",
   "metadata": {},
   "outputs": [
    {
     "name": "stdout",
     "output_type": "stream",
     "text": [
      "Original List : [1, 2, 3, 5]\n",
      "New List : [1, 2, 3, 5, 6]\n",
      "Inserting value 4 at index no 3\n",
      "New List : [1, 2, 3, 4, 5, 6]\n"
     ]
    }
   ],
   "source": [
    "my_list = [1, 2, 3, 5]\n",
    "\n",
    "append1 = 6\n",
    "insert1 = 4\n",
    "\n",
    "# append operation\n",
    "print(f\"Original List : {my_list}\")\n",
    "my_list.append(append1)\n",
    "print(f\"New List : {my_list}\")\n",
    "\n",
    "# insert operation\n",
    "print(f\"Inserting value 4 at index no 3\")\n",
    "my_list.insert(3, insert1)\n",
    "print(f\"New List : {my_list}\")"
   ]
  },
  {
   "cell_type": "markdown",
   "id": "d16f46c1",
   "metadata": {},
   "source": [
    "### Question 11\n",
    "\n",
    "What are the two methods for removing items from a list?\n",
    "\n",
    "*Solution*:-"
   ]
  },
  {
   "cell_type": "code",
   "execution_count": 25,
   "id": "e1b7cf24",
   "metadata": {},
   "outputs": [
    {
     "data": {
      "text/plain": [
       "['cat', 12, 213.23, 'dog']"
      ]
     },
     "execution_count": 25,
     "metadata": {},
     "output_type": "execute_result"
    }
   ],
   "source": [
    "# define a list\n",
    "list = ['cat', 12, True, 213.23, \"dog\"]\n",
    "\n",
    "# using remove()\n",
    "list.remove(True)\n",
    "list"
   ]
  },
  {
   "cell_type": "code",
   "execution_count": 26,
   "id": "a322b3fb",
   "metadata": {},
   "outputs": [
    {
     "data": {
      "text/plain": [
       "['cat', 213.23, 'dog']"
      ]
     },
     "execution_count": 26,
     "metadata": {},
     "output_type": "execute_result"
    }
   ],
   "source": [
    "# using del, removes specific index\n",
    "del list[1]\n",
    "list"
   ]
  },
  {
   "cell_type": "markdown",
   "id": "8d5d0671",
   "metadata": {},
   "source": [
    "### Question 12\n",
    "\n",
    "Describe how list values and string values are identical.\n",
    "\n",
    "*Solution*:-\n",
    "\n",
    "We can use loops, concatenation, replication methods, slicing to both list values and string values."
   ]
  },
  {
   "cell_type": "code",
   "execution_count": 29,
   "id": "5a038b06",
   "metadata": {},
   "outputs": [],
   "source": [
    "string = \"mycat\"\n",
    "my_list = ['m', 'y', 'c', 'a', 't']"
   ]
  },
  {
   "cell_type": "code",
   "execution_count": 34,
   "id": "6f4dcfcc",
   "metadata": {},
   "outputs": [
    {
     "data": {
      "text/plain": [
       "(5, 5)"
      ]
     },
     "execution_count": 34,
     "metadata": {},
     "output_type": "execute_result"
    }
   ],
   "source": [
    "# using length method\n",
    "len(string), len(my_list)"
   ]
  },
  {
   "cell_type": "code",
   "execution_count": 37,
   "id": "bb6ebd8f",
   "metadata": {},
   "outputs": [
    {
     "data": {
      "text/plain": [
       "('my', ['m', 'y'])"
      ]
     },
     "execution_count": 37,
     "metadata": {},
     "output_type": "execute_result"
    }
   ],
   "source": [
    "# slicing first 2 characters\n",
    "string[:2], my_list[:2]"
   ]
  },
  {
   "cell_type": "code",
   "execution_count": 38,
   "id": "a64f985e",
   "metadata": {},
   "outputs": [
    {
     "data": {
      "text/plain": [
       "(True, True)"
      ]
     },
     "execution_count": 38,
     "metadata": {},
     "output_type": "execute_result"
    }
   ],
   "source": [
    "# check if t in string and list\n",
    "'t' in string, 't' in my_list"
   ]
  },
  {
   "cell_type": "code",
   "execution_count": 39,
   "id": "57dd999c",
   "metadata": {},
   "outputs": [
    {
     "data": {
      "text/plain": [
       "('mycats', ['m', 'y', 'c', 'a', 't', 's'])"
      ]
     },
     "execution_count": 39,
     "metadata": {},
     "output_type": "execute_result"
    }
   ],
   "source": [
    "# concatination\n",
    "string + 's', my_list + ['s']"
   ]
  },
  {
   "cell_type": "markdown",
   "id": "7692f4f3",
   "metadata": {},
   "source": [
    "### Question 13\n",
    "\n",
    "What's the difference between tuples and lists?\n",
    "\n",
    "*Solution*:-"
   ]
  },
  {
   "cell_type": "markdown",
   "id": "5f051791",
   "metadata": {},
   "source": [
    "List-Lists are mutable and values can be modified. Better for insertion and deletion                                           \n",
    "Tuples-Tuples are immutable and values cannot be modified. Better for accessing value"
   ]
  },
  {
   "cell_type": "code",
   "execution_count": 44,
   "id": "f9ffaa5c",
   "metadata": {},
   "outputs": [],
   "source": [
    "list = [1,2,3,4]\n",
    "tuple = (1,2,3,4)"
   ]
  },
  {
   "cell_type": "code",
   "execution_count": 45,
   "id": "09793796",
   "metadata": {},
   "outputs": [
    {
     "data": {
      "text/plain": [
       "[100, 2, 3, 4]"
      ]
     },
     "execution_count": 45,
     "metadata": {},
     "output_type": "execute_result"
    }
   ],
   "source": [
    "list[0] = 100\n",
    "list"
   ]
  },
  {
   "cell_type": "code",
   "execution_count": 46,
   "id": "36c34ad3",
   "metadata": {},
   "outputs": [
    {
     "ename": "TypeError",
     "evalue": "'tuple' object does not support item assignment",
     "output_type": "error",
     "traceback": [
      "\u001b[1;31m---------------------------------------------------------------------------\u001b[0m",
      "\u001b[1;31mTypeError\u001b[0m                                 Traceback (most recent call last)",
      "Cell \u001b[1;32mIn[46], line 1\u001b[0m\n\u001b[1;32m----> 1\u001b[0m \u001b[38;5;28mtuple\u001b[39m[\u001b[38;5;241m0\u001b[39m] \u001b[38;5;241m=\u001b[39m \u001b[38;5;241m100\u001b[39m\n\u001b[0;32m      2\u001b[0m \u001b[38;5;28mtuple\u001b[39m\n",
      "\u001b[1;31mTypeError\u001b[0m: 'tuple' object does not support item assignment"
     ]
    }
   ],
   "source": [
    "tuple[0] = 100\n",
    "tuple"
   ]
  },
  {
   "cell_type": "code",
   "execution_count": 47,
   "id": "ddea8a13",
   "metadata": {},
   "outputs": [
    {
     "data": {
      "text/plain": [
       "(72, 56)"
      ]
     },
     "execution_count": 47,
     "metadata": {},
     "output_type": "execute_result"
    }
   ],
   "source": [
    "# size allocated in memory difference\n",
    "list.__sizeof__(), tuple.__sizeof__()\n"
   ]
  },
  {
   "cell_type": "markdown",
   "id": "31dcf269",
   "metadata": {},
   "source": [
    "### Question 14\n",
    "\n",
    "How do you type a tuple value that only contains the integer 42?\n",
    "\n",
    "*Solution*:-"
   ]
  },
  {
   "cell_type": "code",
   "execution_count": 49,
   "id": "f48fbdf6",
   "metadata": {},
   "outputs": [
    {
     "data": {
      "text/plain": [
       "(42,)"
      ]
     },
     "execution_count": 49,
     "metadata": {},
     "output_type": "execute_result"
    }
   ],
   "source": [
    "tuple = (42,)\n",
    "tuple"
   ]
  },
  {
   "cell_type": "markdown",
   "id": "5c501580",
   "metadata": {},
   "source": [
    "### Question 15\n",
    "\n",
    "How do you get a list value's tuple form? How do you get a tuple value's list form?\n",
    "\n",
    "*Solution*:-"
   ]
  },
  {
   "cell_type": "markdown",
   "id": "b07e711f",
   "metadata": {},
   "source": [
    "my_list = [1,2,3,4]                                                                                                             \n",
    "print(tuple(my_list))\n",
    "\n",
    "(1, 2, 3, 4)\n",
    "\n",
    "my_tuple = (1,2,3,4)                                                                                                           \n",
    "print(list(my_tuple))\n",
    "\n",
    "[1, 2, 3, 4]\n"
   ]
  },
  {
   "cell_type": "markdown",
   "id": "286f0a96",
   "metadata": {},
   "source": [
    "### Question 16\n",
    "\n",
    "Variables that contain list values are not necessarily lists themselves. Instead, what do they contain?\n",
    "\n",
    "*Solution*:-\n",
    "\n",
    "Variables do not store values directly.                                                                                         \n",
    "Python variables work with references to objects representing the values.\n",
    "\n",
    "For example, we have\n",
    "\n",
    "a = [1,2,3]\n",
    "\n",
    "Python creates a new reference for a to point at the object representing the value [1,2,3] in the memory.\n"
   ]
  },
  {
   "cell_type": "markdown",
   "id": "509be99c",
   "metadata": {},
   "source": [
    "### Question 17\n",
    "\n",
    "How do you distinguish between copy.copy() and copy.deepcopy()?\n",
    "\n",
    "*Solution*:-\n",
    "\n",
    "Let's understand by an example,"
   ]
  },
  {
   "cell_type": "code",
   "execution_count": 70,
   "id": "4cab6176",
   "metadata": {},
   "outputs": [],
   "source": [
    "# import copy module\n",
    "import copy\n",
    "\n",
    "# initialize our list\n",
    "my_list = [1, [2, 3], 4]"
   ]
  },
  {
   "cell_type": "code",
   "execution_count": 71,
   "id": "72554791",
   "metadata": {},
   "outputs": [
    {
     "name": "stdout",
     "output_type": "stream",
     "text": [
      "2073789276032\n",
      "2073787928640\n",
      "2073789116800\n",
      "2073789116800\n"
     ]
    }
   ],
   "source": [
    "copy_list = copy.copy(my_list)\n",
    "\n",
    "print(id(my_list))\n",
    "print(id(copy_list))\n",
    "\n",
    "print(id(my_list[1]))\n",
    "print(id(copy_list[1]))"
   ]
  },
  {
   "cell_type": "markdown",
   "id": "62693d75",
   "metadata": {},
   "source": [
    "copy_list becomes new object but my_list[1] is same object as copy_list[1]"
   ]
  },
  {
   "cell_type": "code",
   "execution_count": 72,
   "id": "780be280",
   "metadata": {},
   "outputs": [
    {
     "name": "stdout",
     "output_type": "stream",
     "text": [
      "2073789276032\n",
      "2073789427840\n",
      "2073789116800\n",
      "2073789379520\n"
     ]
    }
   ],
   "source": [
    "deepcopy_list = copy.deepcopy(my_list)\n",
    "\n",
    "print(id(my_list))\n",
    "print(id(deepcopy_list))\n",
    "\n",
    "print(id(my_list[1]))\n",
    "print(id(deepcopy_list[1]))"
   ]
  },
  {
   "cell_type": "markdown",
   "id": "ef407284",
   "metadata": {},
   "source": [
    "deepcopy_list becomes new object and my_list[1] is new object"
   ]
  }
 ],
 "metadata": {
  "kernelspec": {
   "display_name": "Python 3 (ipykernel)",
   "language": "python",
   "name": "python3"
  },
  "language_info": {
   "codemirror_mode": {
    "name": "ipython",
    "version": 3
   },
   "file_extension": ".py",
   "mimetype": "text/x-python",
   "name": "python",
   "nbconvert_exporter": "python",
   "pygments_lexer": "ipython3",
   "version": "3.11.5"
  }
 },
 "nbformat": 4,
 "nbformat_minor": 5
}
