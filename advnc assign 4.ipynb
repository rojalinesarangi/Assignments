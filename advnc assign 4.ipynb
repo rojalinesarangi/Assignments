{
 "cells": [
  {
   "cell_type": "markdown",
   "id": "bc00d4ab",
   "metadata": {},
   "source": [
    "### Q1. Which two operator overloading methods can you use in your classes to support iteration?\n",
    "\n",
    "ANSWER:"
   ]
  },
  {
   "cell_type": "markdown",
   "id": "698f4031",
   "metadata": {},
   "source": [
    "The following are the two operator overloading methods that you can use in your classes to support iteration are:\n",
    "\n",
    "1)`__iter__` : The `__iter__` method will always return the iterator object itself. We can initialize variables in this method.\n",
    "\n",
    "2)`__next__` : The `__next__` method is created to return the next element from the iterator. To reach the end we must raise the     StopIteration error in this method.\n",
    "\n",
    "For Example:"
   ]
  },
  {
   "cell_type": "code",
   "execution_count": 2,
   "id": "b02cc238",
   "metadata": {},
   "outputs": [
    {
     "name": "stdout",
     "output_type": "stream",
     "text": [
      "5\n",
      "6\n",
      "7\n",
      "8\n",
      "9\n",
      "10\n",
      "11\n",
      "12\n",
      "13\n",
      "14\n",
      "15\n"
     ]
    }
   ],
   "source": [
    "class Counter:\n",
    "    def __init__(self, low, high):\n",
    "        self.current = low\n",
    "        self.high = high\n",
    " \n",
    "    def __iter__(self):\n",
    "        return self\n",
    " \n",
    "    def __next__(self):\n",
    "        if self.current > self.high:\n",
    "            raise StopIteration\n",
    "        else:\n",
    "            self.current += 1\n",
    "            return self.current - 1\n",
    " \n",
    " \n",
    "for num in Counter(5, 15):\n",
    "    print(num)"
   ]
  },
  {
   "cell_type": "markdown",
   "id": "10351323",
   "metadata": {},
   "source": [
    "### Q2. In what contexts do the two operator overloading methods manage printing?\n",
    "\n",
    "ANSWER:\n",
    "    \n",
    "The following are the two operator overloading methods that manage prinintg:\n",
    "\n",
    "1)`__str__` : The `__str__` method produces a user-friendly result. You can override the __str__ method and implement it according to your need. This method is used to obtain a textual representation of an object that the user can understand. The following method gets invoke when we pass the variable to the print() function or the str() function.\n",
    "\n",
    "2)`__repr__` : The `__repr__` method produces a developer-friendly result. You should not override the __repr__ method. This method is mainly used by developers while debugging. The following method invokes the output when we type the variable’s name or the object in the interactive python console.\n",
    "\n",
    "So, the following methods `__str__` and `__repr__`  defines how the object is presented “textually”. These methods are implemented in the class that produces the objects.\n",
    "\n",
    "For Example:"
   ]
  },
  {
   "cell_type": "code",
   "execution_count": 4,
   "id": "e69e69a1",
   "metadata": {},
   "outputs": [
    {
     "name": "stdout",
     "output_type": "stream",
     "text": [
      "The string representation of student object is:\n",
      "Name: ABC XYZ , Age: 23\n"
     ]
    }
   ],
   "source": [
    "# Example 1\n",
    "\n",
    "class Student:\n",
    "    def __init__(self, name, age):\n",
    "        self.name = name\n",
    "        self.age = age\n",
    "\n",
    "    def __str__(self):\n",
    "        myString = \"Name: {} , Age: {}\".format(self.name, self.age)\n",
    "        return myString\n",
    "\n",
    "\n",
    "student1 = Student(\"ABC XYZ\", 23)\n",
    "myStr = str(student1)\n",
    "print(\"The string representation of student object is:\")\n",
    "print(myStr)"
   ]
  },
  {
   "cell_type": "code",
   "execution_count": 5,
   "id": "a260ed54",
   "metadata": {},
   "outputs": [
    {
     "name": "stdout",
     "output_type": "stream",
     "text": [
      "2024-02-27 19:31:25.980559\n",
      "datetime.datetime(2024, 2, 27, 19, 31, 25, 980559)\n"
     ]
    }
   ],
   "source": [
    "# Example 2\n",
    "\n",
    "import datetime\n",
    "today = datetime.datetime.now()\n",
    "print(str(today))\n",
    "print(repr(today))"
   ]
  },
  {
   "cell_type": "code",
   "execution_count": 6,
   "id": "2c29f400",
   "metadata": {},
   "outputs": [
    {
     "name": "stdout",
     "output_type": "stream",
     "text": [
      "<__main__.Fruit object at 0x0000028EF38C6D50>\n"
     ]
    }
   ],
   "source": [
    "# Example 3\n",
    "\n",
    "class Fruit:\n",
    "    def __init__(self, name):\n",
    "        self.name = name\n",
    "banana = Fruit(\"Banana\")\n",
    "print(banana)"
   ]
  },
  {
   "cell_type": "code",
   "execution_count": 7,
   "id": "4b23d56d",
   "metadata": {},
   "outputs": [
    {
     "name": "stdout",
     "output_type": "stream",
     "text": [
      "I am a Banana\n"
     ]
    }
   ],
   "source": [
    "class Fruit:\n",
    "    def __init__(self, name):\n",
    "        self.name = name\n",
    "    \n",
    "    def __str__(self):\n",
    "        return f'I am a {self.name}'\n",
    "    \n",
    "    def __repr__(self):\n",
    "        return f'Fruit(\"{self.name}\")'\n",
    "    \n",
    "banana = Fruit(\"Banana\")\n",
    "print(banana)"
   ]
  },
  {
   "cell_type": "code",
   "execution_count": 8,
   "id": "c6e2ef1b",
   "metadata": {},
   "outputs": [
    {
     "name": "stdout",
     "output_type": "stream",
     "text": [
      "I am a Banana\n"
     ]
    }
   ],
   "source": [
    "print(banana.__str__())"
   ]
  },
  {
   "cell_type": "code",
   "execution_count": 9,
   "id": "5d01f13f",
   "metadata": {},
   "outputs": [
    {
     "name": "stdout",
     "output_type": "stream",
     "text": [
      "Fruit(\"Banana\")\n"
     ]
    }
   ],
   "source": [
    "print(banana.__repr__())"
   ]
  },
  {
   "cell_type": "markdown",
   "id": "efe2f199",
   "metadata": {},
   "source": [
    "### Q3. In a class, how do you intercept slice operations?\n",
    "\n",
    "ANSWER:\n",
    "\n",
    "You can intercept slice operations using the `__getitem__` method. The `__getitem__` method is used for accessing list items, array elements, dictionary entries etc. slice() is a constructor in Python that creates slice object to represent set of indices that the range(start, stop, step) specifies. `__getitem__` method can be implement in a class, and the behavior of slicing can be defined inside it.\n",
    "\n",
    "Syntax:"
   ]
  },
  {
   "cell_type": "markdown",
   "id": "c571382b",
   "metadata": {},
   "source": [
    "`__getitem__`(slice(start, stop, step))"
   ]
  },
  {
   "cell_type": "markdown",
   "id": "45deb078",
   "metadata": {},
   "source": [
    "Parameter:\n",
    "    \n",
    "slice() : constructor to create slice object.\n",
    "\n",
    "start : An integer number specifying start index.It is optional and default is 0.\n",
    "\n",
    "stop : An integer number specifying end index.\n",
    "\n",
    "step : An integer number specifying the step of slicing. It is optional and default is 1.\n",
    "\n",
    "For Example:"
   ]
  },
  {
   "cell_type": "code",
   "execution_count": 11,
   "id": "bb943204",
   "metadata": {},
   "outputs": [
    {
     "name": "stdout",
     "output_type": "stream",
     "text": [
      "ab\n"
     ]
    }
   ],
   "source": [
    "# abcde is string can be \n",
    "# an array as well.\n",
    "\n",
    "sliced ='abcde'.__getitem__(slice(0, 2, 1)) \n",
    "print(sliced)"
   ]
  },
  {
   "cell_type": "markdown",
   "id": "f79f794e",
   "metadata": {},
   "source": [
    "### Q4. In a class, how do you capture in-place addition?\n",
    "\n",
    "ANSWER:\n",
    "    \n",
    "**In-place operation** is an operation that changes directly the content of a given linear algebra, vector, matrices(Tensor) without making a copy. The operators which helps to do the operation is called in-place operator.\n",
    "\n",
    "**Eg**: `a+= b` is equivalent to `a= operator.iadd(a, b)`.\n",
    "\n",
    "To capture in-place addition, the `iadd()` in-place operator is used:\n",
    "\n",
    "This function is used to assign the current value and add them. This operator does x+=y operation. In case of strings, numbers assigning is not performed.\n",
    "\n",
    "For Example:"
   ]
  },
  {
   "cell_type": "code",
   "execution_count": 12,
   "id": "d477c644",
   "metadata": {},
   "outputs": [
    {
     "name": "stdout",
     "output_type": "stream",
     "text": [
      "The result after adding : 10\n"
     ]
    }
   ],
   "source": [
    "import operator\n",
    "a =operator.iadd(7, 3);\n",
    "print (\"The result after adding : \", end=\"\")\n",
    "print(a)"
   ]
  },
  {
   "cell_type": "markdown",
   "id": "61e5203a",
   "metadata": {},
   "source": [
    "### Q5. When is it appropriate to use operator overloading?\n",
    "\n",
    "ANSWER:\n",
    "\n",
    "Operator overloading is used when we want to use an operator other than its normal operation to have different meaning according to the context required in user defined function.\n",
    "\n",
    "For Example:"
   ]
  },
  {
   "cell_type": "code",
   "execution_count": 14,
   "id": "234fa058",
   "metadata": {},
   "outputs": [
    {
     "name": "stdout",
     "output_type": "stream",
     "text": [
      "Total Number of Pages: 300\n"
     ]
    }
   ],
   "source": [
    "class Book:\n",
    "    def __init__(self,pages):\n",
    "        self.pages = pages\n",
    "    def __add__(self,other):\n",
    "        return self.pages+other.pages\n",
    "b1 = Book(100)\n",
    "b2 = Book(200)\n",
    "print(f'Total Number of Pages: {b1+b2}')"
   ]
  },
  {
   "cell_type": "code",
   "execution_count": null,
   "id": "8be13d72",
   "metadata": {},
   "outputs": [],
   "source": []
  }
 ],
 "metadata": {
  "kernelspec": {
   "display_name": "Python 3 (ipykernel)",
   "language": "python",
   "name": "python3"
  },
  "language_info": {
   "codemirror_mode": {
    "name": "ipython",
    "version": 3
   },
   "file_extension": ".py",
   "mimetype": "text/x-python",
   "name": "python",
   "nbconvert_exporter": "python",
   "pygments_lexer": "ipython3",
   "version": "3.11.5"
  }
 },
 "nbformat": 4,
 "nbformat_minor": 5
}
