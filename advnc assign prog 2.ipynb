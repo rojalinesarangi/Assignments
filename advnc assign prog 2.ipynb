{
 "cells": [
  {
   "attachments": {
    "image.png": {
     "image/png": "[encoded data removed]"
    }
   },
   "cell_type": "markdown",
   "id": "d6a7e2dc",
   "metadata": {},
   "source": [
    "### 1. Write a function that takes a positive integer num and calculates how many dots exist in a pentagonal shape around the center dot on the Nth iteration.\n",
    "\n",
    "In the image below you can see the first iteration is only a single dot. On the second, there are 6 dots. On the third, there are 16 dots, and on the fourth there are 31 dots.\n",
    "\n",
    "![image.png](attachment:image.png) *Examples:*\n",
    "\n",
    "pentagonal(1) ➞ 1                                                                                                  \n",
    "pentagonal(2) ➞ 6                                                                                                 \n",
    "pentagonal(3) ➞ 16                                                                                             \n",
    "pentagonal(8) ➞ 141                                                                                              "
   ]
  },
  {
   "cell_type": "code",
   "execution_count": 1,
   "id": "18b58a26",
   "metadata": {},
   "outputs": [
    {
     "name": "stdout",
     "output_type": "stream",
     "text": [
      "pentagonal(1) ➞ 1\n",
      "pentagonal(2) ➞ 6\n",
      "pentagonal(3) ➞ 16\n",
      "pentagonal(8) ➞ 141\n"
     ]
    }
   ],
   "source": [
    "def pentagonal(in_num):\n",
    "    output = 1\n",
    "    if in_num >=1:\n",
    "        for ele in range(in_num):\n",
    "            output = output + (5*ele)\n",
    "        print(f'pentagonal({in_num}) ➞ {output}')\n",
    "    else:\n",
    "        print(\"Enter a Positive Number as Input\")\n",
    "        \n",
    "pentagonal(1) \n",
    "pentagonal(2)\n",
    "pentagonal(3)\n",
    "pentagonal(8)"
   ]
  },
  {
   "cell_type": "markdown",
   "id": "4d6fc6e5",
   "metadata": {},
   "source": [
    "### 2. Make a function that encrypts a given input with these steps:\n",
    "    \n",
    "Input: `\"apple\"`                                                                                                          \n",
    "Step 1: Reverse the input: `\"elppa\"`                                                                                       \n",
    "Step 2: Replace all vowels using the following chart:                                                                     \n",
    "`a => 0`                                                                                                         \n",
    "`e => 1`                                                                                                                    \n",
    "`i => 2`                                                                                                                      \n",
    "`o => 2`                                                                                                                 \n",
    "`u => 3`                                                                                                                  \n",
    "`# \"1lpp0\"`                                                                                                              \n",
    " Step 3: Add `\"aca\"` to the end of the word: `\"1lpp0aca\"`                                                                   \n",
    "Output: `\"1lpp0aca\"`                                                                                                     \n",
    "    \n",
    "*Examples:*\n",
    "    \n",
    "encrypt(\"banana\") ➞ \"0n0n0baca\"                                                                                            \n",
    "encrypt(\"karaca\") ➞ \"0c0r0kaca\"                                                                                          \n",
    "encrypt(\"burak\") ➞ \"k0r3baca\"                                                                                        \n",
    "encrypt(\"alpaca\") ➞ \"0c0pl0aca\"                                                                                        "
   ]
  },
  {
   "cell_type": "code",
   "execution_count": 2,
   "id": "76d30a9b",
   "metadata": {},
   "outputs": [
    {
     "name": "stdout",
     "output_type": "stream",
     "text": [
      "encrypt(banana) ➞ 0n0n0baca\n",
      "encrypt(karaca) ➞ 0c0r0kaca\n",
      "encrypt(burak) ➞ k0r2baca\n",
      "encrypt(alpaca) ➞ 0c0pl0aca\n"
     ]
    }
   ],
   "source": [
    "def encrypt(in_string):\n",
    "    vowels = {'a':'0','e':'1','i':'2','o':'2','u':'2'}\n",
    "    out_string = ''\n",
    "    for ele in in_string[::-1]:\n",
    "        if ele in vowels.keys():\n",
    "            out_string += vowels[ele]\n",
    "        else:\n",
    "            out_string += ele\n",
    "    out_string += \"aca\"\n",
    "    print(f'encrypt({in_string}) ➞ {out_string}')\n",
    "        \n",
    "encrypt(\"banana\")\n",
    "encrypt(\"karaca\")\n",
    "encrypt(\"burak\")\n",
    "encrypt(\"alpaca\") "
   ]
  },
  {
   "cell_type": "markdown",
   "id": "51d68c11",
   "metadata": {},
   "source": [
    "### 3. Given the month and year as numbers, return whether that month contains a Friday 13th.(i.e You can check Python's datetime module)\n",
    "\n",
    "*Example:*\n",
    "\n",
    "has_friday_13(3, 2020) ➞ True                                                                                          \n",
    "has_friday_13(10, 2017) ➞ True                                                                                        \n",
    "has_friday_13(1, 1985) ➞ False                                                                                      "
   ]
  },
  {
   "cell_type": "code",
   "execution_count": 3,
   "id": "77616e5d",
   "metadata": {},
   "outputs": [
    {
     "name": "stdout",
     "output_type": "stream",
     "text": [
      "has_friday_13(3, 2020) ➞ True\n",
      "has_friday_13(10, 2017) ➞ True\n",
      "has_friday_13(1, 1985) ➞ False\n"
     ]
    }
   ],
   "source": [
    "import datetime\n",
    "def has_friday_13(month,year):\n",
    "    output = False\n",
    "    if datetime.datetime(year,month,13).strftime('%A') == 'Friday':\n",
    "        output = True\n",
    "    print(f'has_friday_13{month,year} ➞ {output}')\n",
    "\n",
    "has_friday_13(3, 2020)\n",
    "has_friday_13(10, 2017)\n",
    "has_friday_13(1, 1985)"
   ]
  },
  {
   "cell_type": "markdown",
   "id": "5a1c9297",
   "metadata": {},
   "source": [
    "### 4. Write a regular expression that will help us count how many bad cookies are produced every day. You must use RegEx negative lookbehind.\n",
    "\n",
    "Examples:\n",
    "\n",
    "`lst = [\"bad cookie\", \"good cookie\", \"bad cookie\", \"good cookie\", \"good cookie\"]`                                          \n",
    "`pattern = \"yourregularexpressionhere\"`                                                                                       \n",
    "`len(re.findall(pattern, \", \".join(lst))) ➞ 2`                                                                                 "
   ]
  },
  {
   "cell_type": "code",
   "execution_count": 4,
   "id": "49c9190b",
   "metadata": {},
   "outputs": [
    {
     "name": "stdout",
     "output_type": "stream",
     "text": [
      "No of Bad cookies produced per day ➞ 2\n"
     ]
    }
   ],
   "source": [
    "import re\n",
    "lst = [\"bad cookie\", \"good cookie\", \"bad cookie\", \"good cookie\", \"good cookie\"]\n",
    "pattern = r'(?<!good)\\scookie'# Regex Negative lookbehind expression\n",
    "data = re.findall(pattern,' '.join(lst))\n",
    "print(f'No of Bad cookies produced per day ➞ {len(data)}')"
   ]
  },
  {
   "cell_type": "markdown",
   "id": "32d38a99",
   "metadata": {},
   "source": [
    "### 5. Given a list of words in the singular form, return a set of those words in the plural form if they appear more than once in the list.\n",
    "\n",
    "Examples:\n",
    "\n",
    "`pluralize([\"cow\", \"pig\", \"cow\", \"cow\"]) ➞ { \"cows\", \"pig\" }`                                                              \n",
    "`pluralize([\"table\", \"table\", \"table\"]) ➞ { \"tables\" }`                                                                      \n",
    "`pluralize([\"chair\", \"pencil\", \"arm\"]) ➞ { \"chair\", \"pencil\", \"arm\" }`                                                    "
   ]
  },
  {
   "cell_type": "code",
   "execution_count": 5,
   "id": "421dd468",
   "metadata": {},
   "outputs": [
    {
     "name": "stdout",
     "output_type": "stream",
     "text": [
      "pluralize(['cow', 'pig', 'cow', 'cow'])  ➞ {'pig', 'cows'}\n",
      "pluralize(['table', 'table', 'table'])  ➞ {'tables'}\n",
      "pluralize(['chair', 'pencil', 'arm'])  ➞ {'chair', 'pencil', 'arm'}\n"
     ]
    }
   ],
   "source": [
    "def pluralize(in_list):\n",
    "    out_set = set()\n",
    "    for ele in set(in_list):\n",
    "        if in_list.count(ele) > 1:\n",
    "            out_set.add(ele+'s')\n",
    "        else:\n",
    "            out_set.add(ele)\n",
    "    print(f'pluralize({in_list})  ➞ {out_set}')\n",
    "    \n",
    "pluralize([\"cow\", \"pig\", \"cow\", \"cow\"])\n",
    "pluralize([\"table\", \"table\", \"table\"])\n",
    "pluralize([\"chair\", \"pencil\", \"arm\"]) "
   ]
  },
  {
   "cell_type": "code",
   "execution_count": null,
   "id": "faf71da1",
   "metadata": {},
   "outputs": [],
   "source": []
  }
 ],
 "metadata": {
  "kernelspec": {
   "display_name": "Python 3 (ipykernel)",
   "language": "python",
   "name": "python3"
  },
  "language_info": {
   "codemirror_mode": {
    "name": "ipython",
    "version": 3
   },
   "file_extension": ".py",
   "mimetype": "text/x-python",
   "name": "python",
   "nbconvert_exporter": "python",
   "pygments_lexer": "ipython3",
   "version": "3.11.5"
  }
 },
 "nbformat": 4,
 "nbformat_minor": 5
}
