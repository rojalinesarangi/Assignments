{
 "cells": [
  {
   "cell_type": "markdown",
   "id": "445a51ba",
   "metadata": {},
   "source": [
    "### Question 1\n",
    "\n",
    "Write a Python program to convert kilometers to miles?\n",
    "\n",
    "*Solution*:-"
   ]
  },
  {
   "cell_type": "code",
   "execution_count": 1,
   "id": "b59330d8",
   "metadata": {},
   "outputs": [
    {
     "name": "stdout",
     "output_type": "stream",
     "text": [
      "Enter kilometers value\t100\n",
      "100.0Kms is equivalent to 62.137 miles\n"
     ]
    }
   ],
   "source": [
    "# user input (kilometers)\n",
    "kms = float(input(\"Enter kilometers value\\t\"))\n",
    "\n",
    "# formula\n",
    "miles = kms * 0.62137\n",
    "\n",
    "print(f\"{kms}Kms is equivalent to {miles:.3f} miles\")"
   ]
  },
  {
   "cell_type": "markdown",
   "id": "152decfa",
   "metadata": {},
   "source": [
    "### Question 2\n",
    "\n",
    "Write a Python program to convert Celsius to Fahrenheit?\n",
    "\n",
    "*Solution*:-"
   ]
  },
  {
   "cell_type": "code",
   "execution_count": 3,
   "id": "541c26bc",
   "metadata": {},
   "outputs": [
    {
     "name": "stdout",
     "output_type": "stream",
     "text": [
      "Enter Celcius degrees\t36\n",
      "36.0C is equivalent to 96.800F\n"
     ]
    }
   ],
   "source": [
    "# user input (celsius)\n",
    "c = float(input(\"Enter Celcius degrees\\t\"))\n",
    "\n",
    "# formula\n",
    "f = c * (9/5) + 32\n",
    "\n",
    "print(f\"{c}C is equivalent to {f:.3f}F\")"
   ]
  },
  {
   "cell_type": "markdown",
   "id": "941ad065",
   "metadata": {},
   "source": [
    "### Question 3\n",
    "\n",
    "Write a Python program to display calendar?\n",
    "\n",
    "*Solution*:-"
   ]
  },
  {
   "cell_type": "code",
   "execution_count": 10,
   "id": "fb8b133c",
   "metadata": {},
   "outputs": [
    {
     "name": "stdout",
     "output_type": "stream",
     "text": [
      "   December 2021\n",
      "Mo Tu We Th Fr Sa Su\n",
      "       1  2  3  4  5\n",
      " 6  7  8  9 10 11 12\n",
      "13 14 15 16 17 18 19\n",
      "20 21 22 23 24 25 26\n",
      "27 28 29 30 31\n",
      "\n"
     ]
    }
   ],
   "source": [
    "# using built-in module\n",
    "import calendar\n",
    "\n",
    "# display month\n",
    "year = 2021\n",
    "month = 12\n",
    "\n",
    "print(calendar.month(year,month))"
   ]
  },
  {
   "cell_type": "code",
   "execution_count": 14,
   "id": "82d0a14d",
   "metadata": {},
   "outputs": [
    {
     "name": "stdout",
     "output_type": "stream",
     "text": [
      "                                  2024\n",
      "\n",
      "      January                   February                   March\n",
      "Mo Tu We Th Fr Sa Su      Mo Tu We Th Fr Sa Su      Mo Tu We Th Fr Sa Su\n",
      " 1  2  3  4  5  6  7                1  2  3  4                   1  2  3\n",
      " 8  9 10 11 12 13 14       5  6  7  8  9 10 11       4  5  6  7  8  9 10\n",
      "15 16 17 18 19 20 21      12 13 14 15 16 17 18      11 12 13 14 15 16 17\n",
      "22 23 24 25 26 27 28      19 20 21 22 23 24 25      18 19 20 21 22 23 24\n",
      "29 30 31                  26 27 28 29               25 26 27 28 29 30 31\n",
      "\n",
      "       April                      May                       June\n",
      "Mo Tu We Th Fr Sa Su      Mo Tu We Th Fr Sa Su      Mo Tu We Th Fr Sa Su\n",
      " 1  2  3  4  5  6  7             1  2  3  4  5                      1  2\n",
      " 8  9 10 11 12 13 14       6  7  8  9 10 11 12       3  4  5  6  7  8  9\n",
      "15 16 17 18 19 20 21      13 14 15 16 17 18 19      10 11 12 13 14 15 16\n",
      "22 23 24 25 26 27 28      20 21 22 23 24 25 26      17 18 19 20 21 22 23\n",
      "29 30                     27 28 29 30 31            24 25 26 27 28 29 30\n",
      "\n",
      "        July                     August                  September\n",
      "Mo Tu We Th Fr Sa Su      Mo Tu We Th Fr Sa Su      Mo Tu We Th Fr Sa Su\n",
      " 1  2  3  4  5  6  7                1  2  3  4                         1\n",
      " 8  9 10 11 12 13 14       5  6  7  8  9 10 11       2  3  4  5  6  7  8\n",
      "15 16 17 18 19 20 21      12 13 14 15 16 17 18       9 10 11 12 13 14 15\n",
      "22 23 24 25 26 27 28      19 20 21 22 23 24 25      16 17 18 19 20 21 22\n",
      "29 30 31                  26 27 28 29 30 31         23 24 25 26 27 28 29\n",
      "                                                    30\n",
      "\n",
      "      October                   November                  December\n",
      "Mo Tu We Th Fr Sa Su      Mo Tu We Th Fr Sa Su      Mo Tu We Th Fr Sa Su\n",
      "    1  2  3  4  5  6                   1  2  3                         1\n",
      " 7  8  9 10 11 12 13       4  5  6  7  8  9 10       2  3  4  5  6  7  8\n",
      "14 15 16 17 18 19 20      11 12 13 14 15 16 17       9 10 11 12 13 14 15\n",
      "21 22 23 24 25 26 27      18 19 20 21 22 23 24      16 17 18 19 20 21 22\n",
      "28 29 30 31               25 26 27 28 29 30         23 24 25 26 27 28 29\n",
      "                                                    30 31\n",
      "\n"
     ]
    }
   ],
   "source": [
    "#display full year\n",
    "\n",
    "year=2024\n",
    "\n",
    "print(calendar.calendar(year))"
   ]
  },
  {
   "cell_type": "markdown",
   "id": "59cc2695",
   "metadata": {},
   "source": [
    "### Question 4\n",
    "\n",
    "Write a Python program to solve quadratic equation?\n",
    "\n",
    "*Solution*:-"
   ]
  },
  {
   "cell_type": "markdown",
   "id": "d8db8cc9",
   "metadata": {},
   "source": [
    "The main aim is to find the roots of the equation which is, $$ax^2 + bx +c$$\n",
    "where, a, b, and c are coefficient and real numbers and also $a\\ne0$ \n",
    "\n",
    "Using the Shridharacharya formula we find the roots of the equation."
   ]
  },
  {
   "cell_type": "code",
   "execution_count": 30,
   "id": "b715a497",
   "metadata": {},
   "outputs": [
    {
     "name": "stdout",
     "output_type": "stream",
     "text": [
      "Input first number, (0 not allowed)\t23\n",
      "Input second number\t20\n",
      "Input third number\t22\n",
      "Roots of equation 23x^2 + 20x + 22 are,\n",
      "(-0.43478260869565216+0.876062681722169j)\n",
      "(-0.43478260869565216-0.876062681722169j)\n"
     ]
    }
   ],
   "source": [
    "# user input two variables\n",
    "a = int(input(\"Input first number, (0 not allowed)\\t\"))    \n",
    "b = int(input(\"Input second number\\t\"))\n",
    "c = int(input(\"Input third number\\t\"))\n",
    "\n",
    "# calculate discriminant\n",
    "dis = (b**2) - (4*a*c)\n",
    "\n",
    "# finding 2 roots\n",
    "\n",
    "import cmath\n",
    "\n",
    "root1 = (-b + cmath.sqrt(dis))/(2*a)\n",
    "root2 = (-b - cmath.sqrt(dis))/(2*a)\n",
    "\n",
    "print(f\"Roots of equation {a}x^2 + {b}x + {c} are,\\n{root1}\\n{root2}\")"
   ]
  },
  {
   "cell_type": "markdown",
   "id": "ca9c578c",
   "metadata": {},
   "source": [
    "### Question 5\n",
    "\n",
    "Write a Python program to swap two variables without temp variable?\n",
    "\n",
    "*Solution*:-"
   ]
  },
  {
   "cell_type": "code",
   "execution_count": 31,
   "id": "dc5706a2",
   "metadata": {},
   "outputs": [
    {
     "name": "stdout",
     "output_type": "stream",
     "text": [
      "Input first number\t2\n",
      "Input second number\t3\n",
      "--------------------\n",
      "Value of a = 2, value of b = 3\n",
      "After Swapped Operation\n",
      "Value of a = 3, value of b = 2\n"
     ]
    }
   ],
   "source": [
    "# user input two variables\n",
    "a = int(input(\"Input first number\\t\"))\n",
    "b = int(input(\"Input second number\\t\"))\n",
    "print(\"--------------------\")\n",
    "print(f\"Value of a = {a}, value of b = {b}\")\n",
    "\n",
    "# using tuple swap\n",
    "a, b = b, a\n",
    "\n",
    "print(f\"After Swapped Operation\\nValue of a = {a}, value of b = {b}\")"
   ]
  },
  {
   "cell_type": "code",
   "execution_count": 32,
   "id": "f3d4c1bf",
   "metadata": {},
   "outputs": [
    {
     "name": "stdout",
     "output_type": "stream",
     "text": [
      "Input first number\t2\n",
      "Input second number\t3\n",
      "--------------------\n",
      "Value of a = 2, value of b = 3\n",
      "After Swapped Operation\n",
      "Value of a = 3, value of b = 2\n"
     ]
    }
   ],
   "source": [
    "# user input two variables\n",
    "a = int(input(\"Input first number\\t\"))\n",
    "b = int(input(\"Input second number\\t\"))\n",
    "print(\"--------------------\")\n",
    "print(f\"Value of a = {a}, value of b = {b}\")\n",
    "\n",
    "# using arthematic operation\n",
    "a = a+b\n",
    "b = a-b\n",
    "a = a-b\n",
    "\n",
    "print(f\"After Swapped Operation\\nValue of a = {a}, value of b = {b}\")"
   ]
  },
  {
   "cell_type": "code",
   "execution_count": null,
   "id": "a974b906",
   "metadata": {},
   "outputs": [],
   "source": []
  }
 ],
 "metadata": {
  "kernelspec": {
   "display_name": "Python 3 (ipykernel)",
   "language": "python",
   "name": "python3"
  },
  "language_info": {
   "codemirror_mode": {
    "name": "ipython",
    "version": 3
   },
   "file_extension": ".py",
   "mimetype": "text/x-python",
   "name": "python",
   "nbconvert_exporter": "python",
   "pygments_lexer": "ipython3",
   "version": "3.11.5"
  }
 },
 "nbformat": 4,
 "nbformat_minor": 5
}
