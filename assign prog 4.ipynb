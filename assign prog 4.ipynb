{
 "cells": [
  {
   "cell_type": "markdown",
   "id": "fbb6ec59",
   "metadata": {},
   "source": [
    "### Question 1\n",
    "\n",
    "Write a Python Program to Find the Factorial of a Number?\n",
    "\n",
    "*Solution*:-"
   ]
  },
  {
   "cell_type": "code",
   "execution_count": 1,
   "id": "2d25bcce",
   "metadata": {},
   "outputs": [],
   "source": [
    "def factorialofNumber(num):\n",
    "    return 1 if (num==1 or num==0) else num * factorialofNumber(num-1)"
   ]
  },
  {
   "cell_type": "code",
   "execution_count": 3,
   "id": "07ecd542",
   "metadata": {},
   "outputs": [
    {
     "name": "stdout",
     "output_type": "stream",
     "text": [
      "Enter Number : \t5\n",
      "Factorial of Input Number 5 is 120\n"
     ]
    }
   ],
   "source": [
    "num = int(input(\"Enter Number : \\t\"))\n",
    "print(f\"Factorial of Input Number {num} is {factorialofNumber(num)}\")"
   ]
  },
  {
   "cell_type": "markdown",
   "id": "00ce627d",
   "metadata": {},
   "source": [
    "### Question 2\n",
    "\n",
    "Write a Python Program to Display the multiplication Table?\n",
    "\n",
    "*Solution*:-"
   ]
  },
  {
   "cell_type": "code",
   "execution_count": 5,
   "id": "635913f9",
   "metadata": {},
   "outputs": [],
   "source": [
    "def multiplicationTable(num):\n",
    "    for i in range(1, 11):\n",
    "        print(f\"{num}x{i}={num*i}\")"
   ]
  },
  {
   "cell_type": "code",
   "execution_count": 6,
   "id": "b65a0d5d",
   "metadata": {},
   "outputs": [
    {
     "name": "stdout",
     "output_type": "stream",
     "text": [
      "Enter Number : \t9\n",
      "9x1=9\n",
      "9x2=18\n",
      "9x3=27\n",
      "9x4=36\n",
      "9x5=45\n",
      "9x6=54\n",
      "9x7=63\n",
      "9x8=72\n",
      "9x9=81\n",
      "9x10=90\n"
     ]
    }
   ],
   "source": [
    "num = int(input(\"Enter Number : \\t\"))\n",
    "multiplicationTable(num)"
   ]
  },
  {
   "cell_type": "markdown",
   "id": "3fd005b8",
   "metadata": {},
   "source": [
    "### Question 3\n",
    "\n",
    "Write a Python Program to Print the Fibonacci sequence?\n",
    "\n",
    "*Solution*:-"
   ]
  },
  {
   "cell_type": "code",
   "execution_count": 7,
   "id": "fdbc69f7",
   "metadata": {},
   "outputs": [],
   "source": [
    "def printFibonacciSeq(n):\n",
    "    a = 0\n",
    "    b = 1\n",
    "\n",
    "    if n<1:\n",
    "        print(\"Enter positive Number\")\n",
    "    elif n==1:\n",
    "        print(\"Fibonacci Sequence : \")\n",
    "        print(a)\n",
    "    else:\n",
    "        print(\"Fibonacci Sequence : \")\n",
    "        for i in range(n):\n",
    "            print(a)\n",
    "            c = a+b\n",
    "            a = b\n",
    "            b = c"
   ]
  },
  {
   "cell_type": "code",
   "execution_count": 8,
   "id": "1072383e",
   "metadata": {},
   "outputs": [
    {
     "name": "stdout",
     "output_type": "stream",
     "text": [
      "Fibonacci Sequence : \n",
      "0\n",
      "1\n",
      "1\n",
      "2\n",
      "3\n",
      "5\n",
      "8\n",
      "13\n",
      "21\n",
      "34\n"
     ]
    }
   ],
   "source": [
    "printFibonacciSeq(10)"
   ]
  },
  {
   "cell_type": "markdown",
   "id": "88fb44cf",
   "metadata": {},
   "source": [
    "### Question 4\n",
    "\n",
    "Write a Python Program to Check Armstrong Number?\n",
    "\n",
    "*Solution*:-\n",
    "\n",
    "Example of armstrong Number,"
   ]
  },
  {
   "cell_type": "code",
   "execution_count": 9,
   "id": "177243d9",
   "metadata": {},
   "outputs": [
    {
     "data": {
      "text/plain": [
       "True"
      ]
     },
     "execution_count": 9,
     "metadata": {},
     "output_type": "execute_result"
    }
   ],
   "source": [
    "153 == 1*1*1 + 5*5*5 + 3*3*3"
   ]
  },
  {
   "cell_type": "code",
   "execution_count": 10,
   "id": "d588d19d",
   "metadata": {},
   "outputs": [],
   "source": [
    "import math\n",
    "def order(num):\n",
    "    return int(math.log10(num))+1\n",
    "\n",
    "def isArmstrong(num):\n",
    "    n = order(num)\n",
    "    s = 0\n",
    "    temp = num\n",
    "\n",
    "    while temp!=0:\n",
    "        r = temp%10\n",
    "        s += r**n\n",
    "        temp = temp//10\n",
    "\n",
    "    return s==num"
   ]
  },
  {
   "cell_type": "code",
   "execution_count": 11,
   "id": "12a31449",
   "metadata": {},
   "outputs": [
    {
     "data": {
      "text/plain": [
       "True"
      ]
     },
     "execution_count": 11,
     "metadata": {},
     "output_type": "execute_result"
    }
   ],
   "source": [
    "isArmstrong(153)"
   ]
  },
  {
   "cell_type": "markdown",
   "id": "c8e7bb59",
   "metadata": {},
   "source": [
    "### Question 5\n",
    "\n",
    "Write a Python Program to Find Armstrong Number in an Interval?\n",
    "\n",
    "*Solution*:-"
   ]
  },
  {
   "cell_type": "code",
   "execution_count": 12,
   "id": "985511fc",
   "metadata": {},
   "outputs": [],
   "source": [
    "lower_bound = 100\n",
    "upper_bound = 1000"
   ]
  },
  {
   "cell_type": "code",
   "execution_count": 13,
   "id": "3f7fc168",
   "metadata": {},
   "outputs": [
    {
     "name": "stdout",
     "output_type": "stream",
     "text": [
      "Number 153 is Armstrong Number\n",
      "Number 370 is Armstrong Number\n",
      "Number 371 is Armstrong Number\n",
      "Number 407 is Armstrong Number\n"
     ]
    }
   ],
   "source": [
    "for r in range(lower_bound, upper_bound+1):\n",
    "    if isArmstrong(r):\n",
    "        print(f\"Number {r} is Armstrong Number\")"
   ]
  },
  {
   "cell_type": "markdown",
   "id": "3bc164f6",
   "metadata": {},
   "source": [
    "### Question 6\n",
    "\n",
    "Write a Python Program to Find the Sum of Natural Numbers?\n",
    "\n",
    "*Solution*:-\n",
    "\n",
    "Given a number n find sum of first n natural numbers.\n",
    "\n",
    "n = 6\n",
    "6+5+4+3+2+1 = 21"
   ]
  },
  {
   "cell_type": "code",
   "execution_count": 14,
   "id": "e5ef21fc",
   "metadata": {},
   "outputs": [],
   "source": [
    "def findSum(n) :\n",
    "    return (n / 2) * (n + 1) if (n % 2 == 0) else ((n + 1) / 2) * n"
   ]
  },
  {
   "cell_type": "code",
   "execution_count": 15,
   "id": "c367a4ef",
   "metadata": {},
   "outputs": [
    {
     "data": {
      "text/plain": [
       "21.0"
      ]
     },
     "execution_count": 15,
     "metadata": {},
     "output_type": "execute_result"
    }
   ],
   "source": [
    "findSum(6)"
   ]
  },
  {
   "cell_type": "code",
   "execution_count": 16,
   "id": "84cd8db3",
   "metadata": {},
   "outputs": [
    {
     "data": {
      "text/plain": [
       "36.0"
      ]
     },
     "execution_count": 16,
     "metadata": {},
     "output_type": "execute_result"
    }
   ],
   "source": [
    "findSum(8)"
   ]
  },
  {
   "cell_type": "code",
   "execution_count": null,
   "id": "62fe8ac0",
   "metadata": {},
   "outputs": [],
   "source": []
  }
 ],
 "metadata": {
  "kernelspec": {
   "display_name": "Python 3 (ipykernel)",
   "language": "python",
   "name": "python3"
  },
  "language_info": {
   "codemirror_mode": {
    "name": "ipython",
    "version": 3
   },
   "file_extension": ".py",
   "mimetype": "text/x-python",
   "name": "python",
   "nbconvert_exporter": "python",
   "pygments_lexer": "ipython3",
   "version": "3.11.5"
  }
 },
 "nbformat": 4,
 "nbformat_minor": 5
}
