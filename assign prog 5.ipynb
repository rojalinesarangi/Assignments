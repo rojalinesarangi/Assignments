{
 "cells": [
  {
   "cell_type": "markdown",
   "id": "48322b1f",
   "metadata": {},
   "source": [
    "### Question 1\n",
    "\n",
    "Write a Python Program to find LCM?\n",
    "\n",
    "*Solution*:-"
   ]
  },
  {
   "cell_type": "markdown",
   "id": "0b5f2e5a",
   "metadata": {},
   "source": [
    "$ axb = LCM(a,b) x HCF(a,b) $"
   ]
  },
  {
   "cell_type": "code",
   "execution_count": 5,
   "id": "0d85de5d",
   "metadata": {},
   "outputs": [],
   "source": [
    "def hcf(a,b):\n",
    "    if b==0:\n",
    "        return a\n",
    "    return hcf(b, a%b)"
   ]
  },
  {
   "cell_type": "code",
   "execution_count": 7,
   "id": "cafc336a",
   "metadata": {},
   "outputs": [],
   "source": [
    "def lcm(a,b):\n",
    "    return (a/hcf(a,b))*b"
   ]
  },
  {
   "cell_type": "code",
   "execution_count": 8,
   "id": "194add0c",
   "metadata": {},
   "outputs": [
    {
     "data": {
      "text/plain": [
       "60.0"
      ]
     },
     "execution_count": 8,
     "metadata": {},
     "output_type": "execute_result"
    }
   ],
   "source": [
    "a = 20\n",
    "b = 15\n",
    "\n",
    "lcm(a,b)"
   ]
  },
  {
   "cell_type": "markdown",
   "id": "16b20790",
   "metadata": {},
   "source": [
    "### Question 2\n",
    "\n",
    "Write a Python Program to find HCF?\n",
    "\n",
    "*Solution*:-"
   ]
  },
  {
   "cell_type": "code",
   "execution_count": 10,
   "id": "60f1621d",
   "metadata": {},
   "outputs": [],
   "source": [
    "def hcf(a,b):\n",
    "    if b==0:\n",
    "        return a\n",
    "    return hcf(b, a%b)"
   ]
  },
  {
   "cell_type": "code",
   "execution_count": 11,
   "id": "8cb2f828",
   "metadata": {},
   "outputs": [
    {
     "data": {
      "text/plain": [
       "5"
      ]
     },
     "execution_count": 11,
     "metadata": {},
     "output_type": "execute_result"
    }
   ],
   "source": [
    "a = 20\n",
    "b = 15\n",
    "\n",
    "hcf(a,b)"
   ]
  },
  {
   "cell_type": "markdown",
   "id": "945e156c",
   "metadata": {},
   "source": [
    "### Question 3\n",
    "\n",
    "Write a Python Program to Convert Decimal to Binary, Octal and Hexadecimal?\n",
    "\n",
    "*Solution*:-"
   ]
  },
  {
   "cell_type": "code",
   "execution_count": 12,
   "id": "13cffbd3",
   "metadata": {},
   "outputs": [],
   "source": [
    "# decimal to binary\n",
    "def decimal_to_binary(dec):\n",
    "    print(f\"{dec} in Binary : {bin(dec)}\")\n",
    "  \n",
    "# decimal to octal\n",
    "def decimal_to_octal(dec):\n",
    "    print(f\"{dec} in Octal : {oct(dec)}\")\n",
    "  \n",
    "# decimal to hexadecimal\n",
    "def decimal_to_hexadecimal(dec):\n",
    "    print(f\"{dec} in Hexadecimal : {hex(dec)}\")"
   ]
  },
  {
   "cell_type": "code",
   "execution_count": 13,
   "id": "920a77cb",
   "metadata": {},
   "outputs": [
    {
     "name": "stdout",
     "output_type": "stream",
     "text": [
      "32 in Binary : 0b100000\n",
      "32 in Octal : 0o40\n",
      "32 in Hexadecimal : 0x20\n"
     ]
    }
   ],
   "source": [
    "dec = 32\n",
    "decimal_to_binary(dec)\n",
    "decimal_to_octal(dec)\n",
    "decimal_to_hexadecimal(dec)"
   ]
  },
  {
   "cell_type": "markdown",
   "id": "261fcd70",
   "metadata": {},
   "source": [
    "### Question 4\n",
    "\n",
    "Write a Python Program To Find ASCII value of a character?\n",
    "\n",
    "*Solution*:-"
   ]
  },
  {
   "cell_type": "code",
   "execution_count": 18,
   "id": "5dd84ae6",
   "metadata": {},
   "outputs": [
    {
     "data": {
      "text/plain": [
       "65"
      ]
     },
     "execution_count": 18,
     "metadata": {},
     "output_type": "execute_result"
    }
   ],
   "source": [
    "character = 'A'\n",
    "ord(character)"
   ]
  },
  {
   "cell_type": "code",
   "execution_count": 19,
   "id": "ee4ec6a4",
   "metadata": {},
   "outputs": [
    {
     "data": {
      "text/plain": [
       "124"
      ]
     },
     "execution_count": 19,
     "metadata": {},
     "output_type": "execute_result"
    }
   ],
   "source": [
    "character = \"|\"\n",
    "ord(character)"
   ]
  },
  {
   "cell_type": "markdown",
   "id": "90fa79aa",
   "metadata": {},
   "source": [
    "### Question 5\n",
    "\n",
    "Write a Python Program to Make a Simple Calculator with 4 basic mathematical operations?\n",
    "\n",
    "*Solution*:-"
   ]
  },
  {
   "cell_type": "code",
   "execution_count": 20,
   "id": "131a697c",
   "metadata": {},
   "outputs": [],
   "source": [
    "def calculator(v1, v2, operator):\n",
    "    if operator==\"+\":\n",
    "        return v1 + v2\n",
    "    elif operator==\"-\":\n",
    "        return v1 - v2\n",
    "    elif operator==\"*\":\n",
    "        return v1*v2\n",
    "    elif operator==\"/\":\n",
    "        if v2==0:\n",
    "            print(\"Denominator is 0, NOT VALID\")\n",
    "            return v1\n",
    "        else:\n",
    "            return v1/v2"
   ]
  },
  {
   "cell_type": "code",
   "execution_count": 21,
   "id": "845bba26",
   "metadata": {},
   "outputs": [
    {
     "name": "stdout",
     "output_type": "stream",
     "text": [
      "Enter First Value : 32\n",
      "Enter Operator : +\n",
      "Enter Second Value : 48\n",
      "Result : 80.0\n",
      "Wanna do calculation again? {y/n} : y\n",
      "Enter First Value : 97\n",
      "Enter Operator : -\n",
      "Enter Second Value : 51\n",
      "Result : 46.0\n",
      "Wanna do calculation again? {y/n} : n\n"
     ]
    }
   ],
   "source": [
    "while True:\n",
    "    try:\n",
    "        v1_input = float(input(\"Enter First Value : \"))\n",
    "    except Exception as e:\n",
    "        print(\"INVALID INPUT\")\n",
    "        continue\n",
    "    \n",
    "    operator_input =  input(\"Enter Operator : \")\n",
    "    \n",
    "    if operator_input not in (\"+\", \"-\", \"*\", \"/\"):\n",
    "        print(\"INVALID INPUT. You can only use +, -, *, /\")\n",
    "        continue\n",
    "    \n",
    "    try:\n",
    "        v2_input = float(input(\"Enter Second Value : \"))\n",
    "    except Exception as e:\n",
    "        print(\"INVALID INPUT\")\n",
    "        continue\n",
    "    \n",
    "    print(f\"Result : {calculator(v1_input, v2_input, operator_input)}\")\n",
    "\n",
    "    o_input = input(\"Wanna do calculation again? {y/n} : \")\n",
    "    if o_input=='n':\n",
    "        break"
   ]
  },
  {
   "cell_type": "code",
   "execution_count": null,
   "id": "06f26176",
   "metadata": {},
   "outputs": [],
   "source": []
  }
 ],
 "metadata": {
  "kernelspec": {
   "display_name": "Python 3 (ipykernel)",
   "language": "python",
   "name": "python3"
  },
  "language_info": {
   "codemirror_mode": {
    "name": "ipython",
    "version": 3
   },
   "file_extension": ".py",
   "mimetype": "text/x-python",
   "name": "python",
   "nbconvert_exporter": "python",
   "pygments_lexer": "ipython3",
   "version": "3.11.5"
  }
 },
 "nbformat": 4,
 "nbformat_minor": 5
}
