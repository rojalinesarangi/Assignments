{
 "cells": [
  {
   "cell_type": "markdown",
   "id": "c1b6efee",
   "metadata": {},
   "source": [
    "### Question 1\n",
    "\n",
    "Write a Python Program to Display Fibonacci Sequence Using Recursion?\n",
    "\n",
    "*Solution*:-"
   ]
  },
  {
   "cell_type": "code",
   "execution_count": 4,
   "id": "310ebc04",
   "metadata": {},
   "outputs": [
    {
     "name": "stdout",
     "output_type": "stream",
     "text": [
      "Enter a whole number\t18\n",
      "Your fibonacci Sequence\n",
      "0\n",
      "1\n",
      "1\n",
      "2\n",
      "3\n",
      "5\n",
      "8\n",
      "13\n",
      "21\n",
      "34\n",
      "55\n",
      "89\n",
      "144\n",
      "233\n",
      "377\n",
      "610\n",
      "987\n",
      "1597\n"
     ]
    }
   ],
   "source": [
    "def fibonacci_series(n):\n",
    "    if n<=1:\n",
    "        return n\n",
    "    else:\n",
    "        return fibonacci_series(n-1) + fibonacci_series(n-2) \n",
    "\n",
    "n = int(input(\"Enter a whole number\\t\"))\n",
    "\n",
    "if n<1:\n",
    "    print(\"Invalid Input\")\n",
    "elif n==1:\n",
    "    print(0)\n",
    "else:\n",
    "    print(\"Your fibonacci Sequence\")\n",
    "    for i in range(n):\n",
    "        print(fibonacci_series(i))\n"
   ]
  },
  {
   "cell_type": "markdown",
   "id": "dfce9afa",
   "metadata": {},
   "source": [
    "### Question 2\n",
    "\n",
    "Write a Python Program to Find Factorial of Number Using Recursion?\n",
    "\n",
    "*Solution*:-"
   ]
  },
  {
   "cell_type": "code",
   "execution_count": 6,
   "id": "b20b855b",
   "metadata": {},
   "outputs": [
    {
     "name": "stdout",
     "output_type": "stream",
     "text": [
      "Enter a whole number\t4\n",
      "Factorial of 4 = 24\n"
     ]
    }
   ],
   "source": [
    "def factorial(n):\n",
    "    if n==1:\n",
    "        return 1\n",
    "    \n",
    "    return n*factorial(n-1)\n",
    "\n",
    "n = int(input(\"Enter a whole number\\t\"))\n",
    "print(f\"Factorial of {n} = {factorial(n)}\")"
   ]
  },
  {
   "cell_type": "markdown",
   "id": "d2cd25a9",
   "metadata": {},
   "source": [
    "### Question 3\n",
    "\n",
    "Write a Python Program to calculate your Body Mass Index?\n",
    "\n",
    "*Solution*:-"
   ]
  },
  {
   "cell_type": "code",
   "execution_count": 8,
   "id": "7f287100",
   "metadata": {},
   "outputs": [
    {
     "name": "stdout",
     "output_type": "stream",
     "text": [
      "Enter weight in kgs\t80\n",
      "Enter height in meters\t2\n",
      "BMI Score is 20.0\n"
     ]
    }
   ],
   "source": [
    "def bmi(weight, height):\n",
    "    return weight/(height**2)\n",
    "\n",
    "weight = float(input(\"Enter weight in kgs\\t\"))\n",
    "height = float(input(\"Enter height in meters\\t\"))\n",
    "\n",
    "print(f\"BMI Score is {bmi(weight, height)}\")"
   ]
  },
  {
   "cell_type": "markdown",
   "id": "8f7f562c",
   "metadata": {},
   "source": [
    "### Question 4\n",
    "\n",
    "Write a Python Program to calculate the natural logarithm of any number?\n",
    "\n",
    "*Solution*:-\n",
    "    \n",
    "Natural logarithm : (Base e)"
   ]
  },
  {
   "cell_type": "code",
   "execution_count": 9,
   "id": "4db559b3",
   "metadata": {},
   "outputs": [
    {
     "name": "stdout",
     "output_type": "stream",
     "text": [
      "Natural logarithm of 16 is : 2.772588722239781\n"
     ]
    }
   ],
   "source": [
    "import math\n",
    "\n",
    "print(f\"Natural logarithm of 16 is : {math.log(16)}\")"
   ]
  },
  {
   "cell_type": "markdown",
   "id": "cf31a6dd",
   "metadata": {},
   "source": [
    "### Question 5\n",
    "\n",
    "Write a Python Program for cube sum of first n natural numbers?\n",
    "\n",
    "*Solution*:-"
   ]
  },
  {
   "cell_type": "code",
   "execution_count": 10,
   "id": "bb8510d0",
   "metadata": {},
   "outputs": [
    {
     "name": "stdout",
     "output_type": "stream",
     "text": [
      "Enter your range.9\n",
      "Cube of 1 : 1\n",
      "Cube of 2 : 8\n",
      "Cube of 3 : 27\n",
      "Cube of 4 : 64\n",
      "Cube of 5 : 125\n",
      "Cube of 6 : 216\n",
      "Cube of 7 : 343\n",
      "Cube of 8 : 512\n",
      "Cube of 9 : 729\n"
     ]
    }
   ],
   "source": [
    "cube = lambda x : x**3\n",
    "\n",
    "n = int(input(\"Enter your range.\"))\n",
    "for i in range(1, n+1):\n",
    "    print(f\"Cube of {i} : {cube(i)}\")"
   ]
  },
  {
   "cell_type": "code",
   "execution_count": null,
   "id": "b536f2d5",
   "metadata": {},
   "outputs": [],
   "source": []
  }
 ],
 "metadata": {
  "kernelspec": {
   "display_name": "Python 3 (ipykernel)",
   "language": "python",
   "name": "python3"
  },
  "language_info": {
   "codemirror_mode": {
    "name": "ipython",
    "version": 3
   },
   "file_extension": ".py",
   "mimetype": "text/x-python",
   "name": "python",
   "nbconvert_exporter": "python",
   "pygments_lexer": "ipython3",
   "version": "3.11.5"
  }
 },
 "nbformat": 4,
 "nbformat_minor": 5
}
